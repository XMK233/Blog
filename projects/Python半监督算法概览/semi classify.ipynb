{
 "cells": [
  {
   "cell_type": "code",
   "execution_count": 1,
   "metadata": {
    "ExecuteTime": {
     "end_time": "2022-01-19T15:43:05.410125Z",
     "start_time": "2022-01-19T15:43:00.537942Z"
    }
   },
   "outputs": [
    {
     "name": "stderr",
     "output_type": "stream",
     "text": [
      "/Users/xiuminke/opt/anaconda3/lib/python3.8/site-packages/sklearn/utils/validation.py:63: DataConversionWarning: A column-vector y was passed when a 1d array was expected. Please change the shape of y to (n_samples, ), for example using ravel().\n",
      "  return f(*args, **kwargs)\n"
     ]
    },
    {
     "name": "stdout",
     "output_type": "stream",
     "text": [
      "0.9307692307692308\n"
     ]
    },
    {
     "name": "stderr",
     "output_type": "stream",
     "text": [
      "/Users/xiuminke/opt/anaconda3/lib/python3.8/site-packages/sklearn/utils/validation.py:63: DataConversionWarning: A column-vector y was passed when a 1d array was expected. Please change the shape of y to (n_samples, ), for example using ravel().\n",
      "  return f(*args, **kwargs)\n",
      "/Users/xiuminke/opt/anaconda3/lib/python3.8/site-packages/sklearn/utils/validation.py:63: DataConversionWarning: A column-vector y was passed when a 1d array was expected. Please change the shape of y to (n_samples, ), for example using ravel().\n",
      "  return f(*args, **kwargs)\n",
      "/Users/xiuminke/opt/anaconda3/lib/python3.8/site-packages/sklearn/utils/validation.py:63: DataConversionWarning: A column-vector y was passed when a 1d array was expected. Please change the shape of y to (n_samples, ), for example using ravel().\n",
      "  return f(*args, **kwargs)\n",
      "/Users/xiuminke/opt/anaconda3/lib/python3.8/site-packages/sklearn/utils/validation.py:63: DataConversionWarning: A column-vector y was passed when a 1d array was expected. Please change the shape of y to (n_samples, ), for example using ravel().\n",
      "  return f(*args, **kwargs)\n",
      "/Users/xiuminke/opt/anaconda3/lib/python3.8/site-packages/sklearn/utils/validation.py:63: DataConversionWarning: A column-vector y was passed when a 1d array was expected. Please change the shape of y to (n_samples, ), for example using ravel().\n",
      "  return f(*args, **kwargs)\n",
      "/Users/xiuminke/opt/anaconda3/lib/python3.8/site-packages/sklearn/utils/validation.py:63: DataConversionWarning: A column-vector y was passed when a 1d array was expected. Please change the shape of y to (n_samples, ), for example using ravel().\n",
      "  return f(*args, **kwargs)\n",
      "/Users/xiuminke/opt/anaconda3/lib/python3.8/site-packages/sklearn/utils/validation.py:63: DataConversionWarning: A column-vector y was passed when a 1d array was expected. Please change the shape of y to (n_samples, ), for example using ravel().\n",
      "  return f(*args, **kwargs)\n",
      "/Users/xiuminke/opt/anaconda3/lib/python3.8/site-packages/sklearn/utils/validation.py:63: DataConversionWarning: A column-vector y was passed when a 1d array was expected. Please change the shape of y to (n_samples, ), for example using ravel().\n",
      "  return f(*args, **kwargs)\n",
      "/Users/xiuminke/opt/anaconda3/lib/python3.8/site-packages/sklearn/utils/validation.py:63: DataConversionWarning: A column-vector y was passed when a 1d array was expected. Please change the shape of y to (n_samples, ), for example using ravel().\n",
      "  return f(*args, **kwargs)\n",
      "/Users/xiuminke/opt/anaconda3/lib/python3.8/site-packages/sklearn/utils/validation.py:63: DataConversionWarning: A column-vector y was passed when a 1d array was expected. Please change the shape of y to (n_samples, ), for example using ravel().\n",
      "  return f(*args, **kwargs)\n",
      "/Users/xiuminke/opt/anaconda3/lib/python3.8/site-packages/sklearn/utils/validation.py:63: DataConversionWarning: A column-vector y was passed when a 1d array was expected. Please change the shape of y to (n_samples, ), for example using ravel().\n",
      "  return f(*args, **kwargs)\n"
     ]
    }
   ],
   "source": [
    "import random\n",
    "import numpy as np\n",
    "import sklearn.svm as svm\n",
    "from sklearn.datasets import make_classification\n",
    "\n",
    "\n",
    "class TSVM(object):\n",
    "    '''\n",
    "    半监督SVM\n",
    "    '''\n",
    "    def __init__(self, kernel='linear'):\n",
    "        self.Cl, self.Cu = 1.5, 0.001\n",
    "        self.kernel = kernel\n",
    "        self.clf = svm.SVC(C=1.5, kernel=self.kernel)\n",
    "\n",
    "    def train(self, X1, Y1, X2):\n",
    "        N = len(X1) + len(X2)\n",
    "        # 样本权值初始化\n",
    "        sample_weight = np.ones(N)\n",
    "        sample_weight[len(X1):] = self.Cu\n",
    "\n",
    "        # 用已标注部分训练出一个初始SVM\n",
    "        self.clf.fit(X1, Y1)\n",
    "        \n",
    "        # 对未标记样本进行标记\n",
    "        Y2 = self.clf.predict(X2)\n",
    "        Y2 = Y2.reshape(-1,1)\n",
    "        \n",
    "        X = np.vstack([X1, X2])\n",
    "        Y = np.vstack([Y1, Y2])\n",
    "        \n",
    "        # 未标记样本的序号\n",
    "        Y2_id = np.arange(len(X2))\n",
    "        \n",
    "        while self.Cu < self.Cl:\n",
    "            # 重新训练SVM, 之后再寻找易出错样本不断调整\n",
    "            self.clf.fit(X, Y, sample_weight=sample_weight)\n",
    "            while True:\n",
    "                Y2_decision = self.clf.decision_function(X2)   # 参数实例到决策超平面的距离\n",
    "                Y2 = Y2.reshape(-1)\n",
    "                epsilon = 1 - Y2 * Y2_decision\n",
    "                negative_max_id = Y2_id[epsilon==min(epsilon)]\n",
    "                # print(epsilon[negative_max_id][0])\n",
    "                if epsilon[negative_max_id][0] > 0:\n",
    "                    # 寻找很可能错误的未标记样本，改变它的标记成其他标记\n",
    "                    pool = list(set(np.unique(Y1))-set(Y2[negative_max_id]))\n",
    "                    Y2[negative_max_id] = random.choice(pool)\n",
    "                    Y2 = Y2.reshape(-1, 1)\n",
    "                    Y = np.vstack([Y1, Y2])\n",
    "                    \n",
    "                    self.clf.fit(X, Y, sample_weight=sample_weight)\n",
    "                else:\n",
    "                    break\n",
    "            self.Cu = min(2*self.Cu, self.Cl)\n",
    "            sample_weight[len(X1):] = self.Cu\n",
    "\n",
    "    def score(self, X, Y):\n",
    "        return self.clf.score(X, Y)\n",
    "\n",
    "    def predict(self, X):\n",
    "        return self.clf.predict(X)\n",
    "\n",
    "if __name__ == '__main__':\n",
    "    features, labels = make_classification(n_samples=200, n_features=3, \n",
    "                                           n_redundant=1, n_repeated=0, \n",
    "                                           n_informative=2, n_clusters_per_class=2)\n",
    "    n_given = 70\n",
    "    # 取前n_given个数字作为标注集\n",
    "    X1 = np.copy(features)[:n_given]\n",
    "    X2 = np.copy(features)[n_given:]\n",
    "    Y1 = np.array(np.copy(labels)[:n_given]).reshape(-1,1)\n",
    "    Y2_labeled = np.array(np.copy(labels)[n_given:]).reshape(-1,1)\n",
    "    model = TSVM()\n",
    "    model.train(X1, Y1, X2)\n",
    "    accuracy = model.score(X2, Y2_labeled)\n",
    "    print(accuracy)"
   ]
  },
  {
   "cell_type": "code",
   "execution_count": 5,
   "metadata": {
    "ExecuteTime": {
     "end_time": "2022-01-19T15:44:27.344485Z",
     "start_time": "2022-01-19T15:44:18.935737Z"
    }
   },
   "outputs": [
    {
     "name": "stdout",
     "output_type": "stream",
     "text": [
      "Looking in indexes: https://pypi.tuna.tsinghua.edu.cn/simple\n",
      "Collecting networkx==2.3\n",
      "  Downloading https://pypi.tuna.tsinghua.edu.cn/packages/85/08/f20aef11d4c343b557e5de6b9548761811eb16e438cee3d32b1c66c8566b/networkx-2.3.zip (1.7 MB)\n",
      "     |████████████████████████████████| 1.7 MB 2.4 MB/s            \n",
      "\u001b[?25h  Preparing metadata (setup.py) ... \u001b[?25ldone\n",
      "\u001b[?25hRequirement already satisfied: decorator>=4.3.0 in /Users/xiuminke/opt/anaconda3/lib/python3.8/site-packages (from networkx==2.3) (5.0.6)\n",
      "Building wheels for collected packages: networkx\n",
      "  Building wheel for networkx (setup.py) ... \u001b[?25ldone\n",
      "\u001b[?25h  Created wheel for networkx: filename=networkx-2.3-py2.py3-none-any.whl size=1556007 sha256=9ec323d7f51a3dc29d3a947ca2491b605d2a129021459e2bdb8a47a121e408bd\n",
      "  Stored in directory: /Users/xiuminke/Library/Caches/pip/wheels/4f/c9/93/3187857777296949e888885cdcefa6024ee076103074a43fee\n",
      "Successfully built networkx\n",
      "Installing collected packages: networkx\n",
      "  Attempting uninstall: networkx\n",
      "    Found existing installation: networkx 2.5\n",
      "    Uninstalling networkx-2.5:\n",
      "      Successfully uninstalled networkx-2.5\n",
      "Successfully installed networkx-2.3\n"
     ]
    }
   ],
   "source": [
    "!pip install networkx==2.3"
   ]
  },
  {
   "cell_type": "code",
   "execution_count": 2,
   "metadata": {
    "ExecuteTime": {
     "end_time": "2022-01-19T15:45:18.207891Z",
     "start_time": "2022-01-19T15:45:12.711135Z"
    }
   },
   "outputs": [
    {
     "name": "stdout",
     "output_type": "stream",
     "text": [
      "Looking in indexes: https://pypi.tuna.tsinghua.edu.cn/simple\n",
      "Collecting decorator==4.4.2\n",
      "  Downloading https://pypi.tuna.tsinghua.edu.cn/packages/ed/1b/72a1821152d07cf1d8b6fce298aeb06a7eb90f4d6d41acec9861e7cc6df0/decorator-4.4.2-py2.py3-none-any.whl (9.2 kB)\n",
      "Installing collected packages: decorator\n",
      "  Attempting uninstall: decorator\n",
      "    Found existing installation: decorator 5.0.6\n",
      "    Uninstalling decorator-5.0.6:\n",
      "      Successfully uninstalled decorator-5.0.6\n",
      "Successfully installed decorator-4.4.2\n"
     ]
    }
   ],
   "source": [
    "!pip3 install decorator==4.4.2"
   ]
  },
  {
   "cell_type": "code",
   "execution_count": null,
   "metadata": {
    "ExecuteTime": {
     "start_time": "2022-01-19T15:46:07.088Z"
    }
   },
   "outputs": [
    {
     "name": "stdout",
     "output_type": "stream",
     "text": [
      "Looking in indexes: https://pypi.tuna.tsinghua.edu.cn/simple\n",
      "Collecting matplotlib==2.2.3\n",
      "  Downloading https://pypi.tuna.tsinghua.edu.cn/packages/eb/a0/31b6ba00bc4dcbc06f0b80d1ad6119a9cc3081ecb04a00117f6c1ca3a084/matplotlib-2.2.3.tar.gz (36.8 MB)\n",
      "     |████████████████████████████████| 36.8 MB 3.2 MB/s            \n",
      "\u001b[?25h  Preparing metadata (setup.py) ... \u001b[?25ldone\n",
      "\u001b[?25hRequirement already satisfied: numpy>=1.7.1 in /Users/xiuminke/opt/anaconda3/lib/python3.8/site-packages (from matplotlib==2.2.3) (1.19.5)\n",
      "Requirement already satisfied: cycler>=0.10 in /Users/xiuminke/opt/anaconda3/lib/python3.8/site-packages (from matplotlib==2.2.3) (0.10.0)\n",
      "Requirement already satisfied: pyparsing!=2.0.4,!=2.1.2,!=2.1.6,>=2.0.1 in /Users/xiuminke/opt/anaconda3/lib/python3.8/site-packages (from matplotlib==2.2.3) (2.4.7)\n",
      "Requirement already satisfied: python-dateutil>=2.1 in /Users/xiuminke/opt/anaconda3/lib/python3.8/site-packages (from matplotlib==2.2.3) (2.8.1)\n",
      "Requirement already satisfied: pytz in /Users/xiuminke/opt/anaconda3/lib/python3.8/site-packages (from matplotlib==2.2.3) (2021.1)\n",
      "Requirement already satisfied: six>=1.10 in /Users/xiuminke/opt/anaconda3/lib/python3.8/site-packages (from matplotlib==2.2.3) (1.15.0)\n",
      "Requirement already satisfied: kiwisolver>=1.0.1 in /Users/xiuminke/opt/anaconda3/lib/python3.8/site-packages (from matplotlib==2.2.3) (1.3.1)\n",
      "Building wheels for collected packages: matplotlib\n",
      "  Building wheel for matplotlib (setup.py) ... \u001b[?25ldone\n",
      "\u001b[?25h  Created wheel for matplotlib: filename=matplotlib-2.2.3-cp38-cp38-macosx_10_9_x86_64.whl size=8099012 sha256=92f022349bd1d18db448929c69c39d1c933abd6fd5a669b25eae2f265edfaea2\n",
      "  Stored in directory: /Users/xiuminke/Library/Caches/pip/wheels/b8/47/eb/a905a20171f7a3ed8f5a5cbd33abbd1a78a6fe043560a8dc47\n",
      "Successfully built matplotlib\n",
      "Installing collected packages: matplotlib\n",
      "  Attempting uninstall: matplotlib\n",
      "    Found existing installation: matplotlib 3.3.4\n",
      "    Uninstalling matplotlib-3.3.4:\n",
      "      Successfully uninstalled matplotlib-3.3.4\n"
     ]
    }
   ],
   "source": [
    "!pip install matplotlib==2.2.3"
   ]
  },
  {
   "cell_type": "code",
   "execution_count": 1,
   "metadata": {
    "ExecuteTime": {
     "end_time": "2022-01-19T15:47:43.795888Z",
     "start_time": "2022-01-19T15:47:38.466755Z"
    }
   },
   "outputs": [
    {
     "name": "stderr",
     "output_type": "stream",
     "text": [
      "/Users/xiuminke/opt/anaconda3/lib/python3.8/site-packages/matplotlib/pyplot.py:2422: SyntaxWarning: \"is\" with a literal. Did you mean \"==\"?\n",
      "  if fignum is False or fignum is 0:\n",
      "/Users/xiuminke/opt/anaconda3/lib/python3.8/site-packages/matplotlib/contour.py:871: SyntaxWarning: \"is not\" with a literal. Did you mean \"!=\"?\n",
      "  if self.extend is not 'neither':\n"
     ]
    },
    {
     "data": {
      "text/plain": [
       "<Figure size 800x600 with 1 Axes>"
      ]
     },
     "metadata": {},
     "output_type": "display_data"
    },
    {
     "name": "stdout",
     "output_type": "stream",
     "text": [
      "迭代次数 1\n",
      "迭代次数 2\n",
      "迭代次数 3\n",
      "迭代次数 4\n",
      "迭代次数 5\n",
      "迭代次数 6\n",
      "迭代次数 7\n",
      "迭代次数 8\n",
      "迭代次数 9\n",
      "迭代次数 10\n",
      "社区数量 3\n"
     ]
    },
    {
     "data": {
      "text/plain": [
       "<Figure size 800x600 with 1 Axes>"
      ]
     },
     "metadata": {},
     "output_type": "display_data"
    }
   ],
   "source": [
    "import random\n",
    "import networkx as nx\n",
    "import matplotlib.pyplot as plt\n",
    "\n",
    "class LPA():\n",
    "    '''\n",
    "    标签传播算法：传播标签来划分社区\n",
    "    算法终止条件：迭代次数超过设定值\n",
    "    self.G：图\n",
    "    return： None\n",
    "    '''\n",
    "    def __init__(self, G, iters=10):\n",
    "        self.iters = iters\n",
    "        self.G = G\n",
    "        \n",
    "    def train(self):\n",
    "        max_iter_num = 0 # 迭代次数\n",
    "\n",
    "        while max_iter_num < self.iters:\n",
    "            max_iter_num += 1\n",
    "            print('迭代次数',max_iter_num)\n",
    "\n",
    "            for node in self.G:\n",
    "                count = {} # 记录邻居节点及其标签\n",
    "                for nbr in self.G.neighbors(node): # node的邻居节点\n",
    "                    label = self.G.node[nbr]['labels'] \n",
    "                    count[label] = count.setdefault(label,0) + 1\n",
    "\n",
    "                # 找到出现次数最多的标签\n",
    "                count_items = sorted(count.items(),key=lambda x:-x[-1])\n",
    "                best_labels = [k for k,v in count_items if v == count_items[0][1]]\n",
    "                # 当多个标签频次相同时随机选取一个标签\n",
    "                label = random.sample(best_labels,1)[0] \n",
    "                self.G.node[node]['labels'] = label # 更新标签\n",
    "\n",
    "    def draw_picture(self):\n",
    "        # 画图\n",
    "        node_color = [float(self.G.node[v]['labels']) for v in self.G]\n",
    "        pos = nx.spring_layout(self.G) # 节点的布局为spring型\n",
    "        plt.figure(figsize = (8,6)) # 图片大小\n",
    "        nx.draw_networkx(self.G,pos=pos,node_color=node_color)\n",
    "        plt.show()\n",
    "\n",
    "if __name__ == \"__main__\":\n",
    "    G = nx.karate_club_graph() # 空手道\n",
    "    # 给节点添加标签\n",
    "    for node in G:\n",
    "        G.add_node(node, labels = node) # 用labels的状态\n",
    "    model = LPA(G)\n",
    "    # 原始节点标签\n",
    "    model.draw_picture()\n",
    "    model.train()\n",
    "    com = set([G.node[node]['labels'] for node in G])\n",
    "    print('社区数量',len(com))\n",
    "    # LPA节点标签\n",
    "    model.draw_picture()"
   ]
  },
  {
   "cell_type": "code",
   "execution_count": null,
   "metadata": {},
   "outputs": [],
   "source": []
  },
  {
   "cell_type": "code",
   "execution_count": null,
   "metadata": {},
   "outputs": [],
   "source": []
  }
 ],
 "metadata": {
  "kernelspec": {
   "display_name": "Python 3",
   "language": "python",
   "name": "python3"
  },
  "language_info": {
   "codemirror_mode": {
    "name": "ipython",
    "version": 3
   },
   "file_extension": ".py",
   "mimetype": "text/x-python",
   "name": "python",
   "nbconvert_exporter": "python",
   "pygments_lexer": "ipython3",
   "version": "3.8.8"
  },
  "toc": {
   "base_numbering": 1,
   "nav_menu": {},
   "number_sections": true,
   "sideBar": true,
   "skip_h1_title": false,
   "title_cell": "Table of Contents",
   "title_sidebar": "Contents",
   "toc_cell": false,
   "toc_position": {},
   "toc_section_display": true,
   "toc_window_display": false
  }
 },
 "nbformat": 4,
 "nbformat_minor": 2
}
