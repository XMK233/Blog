{
 "cells": [
  {
   "cell_type": "code",
   "execution_count": 1,
   "metadata": {
    "ExecuteTime": {
     "end_time": "2022-01-06T10:35:03.797182Z",
     "start_time": "2022-01-06T10:35:03.043165Z"
    }
   },
   "outputs": [],
   "source": [
    "\"\"\"\n",
    "author：算法进阶\n",
    "https://github.com/aialgorithm/Blog\n",
    "\"\"\"\n",
    "\n",
    "import numpy as np\n",
    "import matplotlib.pyplot as plt\n",
    "import pandas as pd"
   ]
  },
  {
   "cell_type": "code",
   "execution_count": 2,
   "metadata": {
    "ExecuteTime": {
     "end_time": "2022-01-06T10:35:04.390429Z",
     "start_time": "2022-01-06T10:35:04.360344Z"
    }
   },
   "outputs": [
    {
     "name": "stdout",
     "output_type": "stream",
     "text": [
      "(2035, 8)\n"
     ]
    },
    {
     "data": {
      "text/html": [
       "<div>\n",
       "<style scoped>\n",
       "    .dataframe tbody tr th:only-of-type {\n",
       "        vertical-align: middle;\n",
       "    }\n",
       "\n",
       "    .dataframe tbody tr th {\n",
       "        vertical-align: top;\n",
       "    }\n",
       "\n",
       "    .dataframe thead th {\n",
       "        text-align: right;\n",
       "    }\n",
       "</style>\n",
       "<table border=\"1\" class=\"dataframe\">\n",
       "  <thead>\n",
       "    <tr style=\"text-align: right;\">\n",
       "      <th></th>\n",
       "      <th>Date</th>\n",
       "      <th>Open</th>\n",
       "      <th>High</th>\n",
       "      <th>Low</th>\n",
       "      <th>Last</th>\n",
       "      <th>Close</th>\n",
       "      <th>Total Trade Quantity</th>\n",
       "      <th>Turnover (Lacs)</th>\n",
       "    </tr>\n",
       "  </thead>\n",
       "  <tbody>\n",
       "    <tr>\n",
       "      <th>0</th>\n",
       "      <td>2010-07-21</td>\n",
       "      <td>122.1</td>\n",
       "      <td>123.00</td>\n",
       "      <td>121.05</td>\n",
       "      <td>121.10</td>\n",
       "      <td>121.55</td>\n",
       "      <td>658666</td>\n",
       "      <td>803.56</td>\n",
       "    </tr>\n",
       "    <tr>\n",
       "      <th>1</th>\n",
       "      <td>2010-07-22</td>\n",
       "      <td>120.3</td>\n",
       "      <td>122.00</td>\n",
       "      <td>120.25</td>\n",
       "      <td>120.75</td>\n",
       "      <td>120.90</td>\n",
       "      <td>293312</td>\n",
       "      <td>355.17</td>\n",
       "    </tr>\n",
       "    <tr>\n",
       "      <th>2</th>\n",
       "      <td>2010-07-23</td>\n",
       "      <td>121.8</td>\n",
       "      <td>121.95</td>\n",
       "      <td>120.25</td>\n",
       "      <td>120.35</td>\n",
       "      <td>120.65</td>\n",
       "      <td>281312</td>\n",
       "      <td>340.31</td>\n",
       "    </tr>\n",
       "    <tr>\n",
       "      <th>3</th>\n",
       "      <td>2010-07-26</td>\n",
       "      <td>120.1</td>\n",
       "      <td>121.00</td>\n",
       "      <td>117.10</td>\n",
       "      <td>117.10</td>\n",
       "      <td>117.60</td>\n",
       "      <td>658440</td>\n",
       "      <td>780.01</td>\n",
       "    </tr>\n",
       "    <tr>\n",
       "      <th>4</th>\n",
       "      <td>2010-07-27</td>\n",
       "      <td>117.6</td>\n",
       "      <td>119.50</td>\n",
       "      <td>112.00</td>\n",
       "      <td>118.80</td>\n",
       "      <td>118.65</td>\n",
       "      <td>586100</td>\n",
       "      <td>694.98</td>\n",
       "    </tr>\n",
       "  </tbody>\n",
       "</table>\n",
       "</div>"
      ],
      "text/plain": [
       "         Date   Open    High     Low    Last   Close  Total Trade Quantity  \\\n",
       "0  2010-07-21  122.1  123.00  121.05  121.10  121.55                658666   \n",
       "1  2010-07-22  120.3  122.00  120.25  120.75  120.90                293312   \n",
       "2  2010-07-23  121.8  121.95  120.25  120.35  120.65                281312   \n",
       "3  2010-07-26  120.1  121.00  117.10  117.10  117.60                658440   \n",
       "4  2010-07-27  117.6  119.50  112.00  118.80  118.65                586100   \n",
       "\n",
       "   Turnover (Lacs)  \n",
       "0           803.56  \n",
       "1           355.17  \n",
       "2           340.31  \n",
       "3           780.01  \n",
       "4           694.98  "
      ]
     },
     "execution_count": 2,
     "metadata": {},
     "output_type": "execute_result"
    }
   ],
   "source": [
    "# 导入股票数据，选取股票开盘价序列数据\n",
    "dataset_train = pd.read_csv('./data/NSE-TATAGLOBAL.csv')\n",
    "dataset_train = dataset_train.sort_values(by='Date').reset_index(drop=True)\n",
    "training_set = dataset_train.iloc[:, 1:2].values\n",
    "print(dataset_train.shape)\n",
    "dataset_train.head()"
   ]
  },
  {
   "cell_type": "code",
   "execution_count": 3,
   "metadata": {
    "ExecuteTime": {
     "end_time": "2022-01-06T10:35:06.318635Z",
     "start_time": "2022-01-06T10:35:06.314903Z"
    }
   },
   "outputs": [
    {
     "data": {
      "text/plain": [
       "array([[122.1 ],\n",
       "       [120.3 ],\n",
       "       [121.8 ],\n",
       "       ...,\n",
       "       [240.  ],\n",
       "       [234.55],\n",
       "       [234.05]])"
      ]
     },
     "execution_count": 3,
     "metadata": {},
     "output_type": "execute_result"
    }
   ],
   "source": [
    "## 开盘价\n",
    "training_set"
   ]
  },
  {
   "cell_type": "code",
   "execution_count": 4,
   "metadata": {
    "ExecuteTime": {
     "end_time": "2022-01-06T10:35:08.069311Z",
     "start_time": "2022-01-06T10:35:06.783151Z"
    }
   },
   "outputs": [],
   "source": [
    "# 对训练数据max-min归一化，加速网络收敛\n",
    "# max-min离差标准化帮助我们转化不同比例上的数据，消除特殊特征的主导。并且它不需要对数据的分布进行假设（比如k近邻和人工神经网络）。但是，归一化（离差标准化）不能很好地处理异常值。相反，标准化（中心标准化）可以更好地处理异常值，以及加速诸如梯度下降等算法的收敛。所以我们通常选择中心标准化。\n",
    "from sklearn.preprocessing import MinMaxScaler,StandardScaler\n",
    "# sc = StandardScaler()\n",
    "sc = MinMaxScaler(feature_range = (0, 1))\n",
    "training_set_scaled = sc.fit_transform(training_set)"
   ]
  },
  {
   "cell_type": "code",
   "execution_count": 5,
   "metadata": {
    "ExecuteTime": {
     "end_time": "2022-01-06T10:35:08.077587Z",
     "start_time": "2022-01-06T10:35:08.071892Z"
    }
   },
   "outputs": [
    {
     "data": {
      "text/plain": [
       "array([[0.16626115],\n",
       "       [0.15896188],\n",
       "       [0.16504461],\n",
       "       ...,\n",
       "       [0.64436334],\n",
       "       [0.62226277],\n",
       "       [0.6202352 ]])"
      ]
     },
     "execution_count": 5,
     "metadata": {},
     "output_type": "execute_result"
    }
   ],
   "source": [
    "## 标准化后的开盘价\n",
    "training_set_scaled"
   ]
  },
  {
   "cell_type": "code",
   "execution_count": 6,
   "metadata": {
    "ExecuteTime": {
     "end_time": "2022-01-06T10:35:10.108448Z",
     "start_time": "2022-01-06T10:35:10.100882Z"
    }
   },
   "outputs": [
    {
     "name": "stdout",
     "output_type": "stream",
     "text": [
      "(1975, 60)\n",
      "(1975,)\n"
     ]
    }
   ],
   "source": [
    "# 数据整理为样本及标签：60 timesteps and 1 output\n",
    "# 每条样本含60个时间步，对应下一时间步作为标签值\n",
    "X_train = []\n",
    "y_train = []\n",
    "for i in range(60, 2035):\n",
    "    X_train.append(training_set_scaled[i-60:i, 0])\n",
    "    y_train.append(training_set_scaled[i, 0])\n",
    "X_train, y_train = np.array(X_train), np.array(y_train)\n",
    "\n",
    "print(X_train.shape)\n",
    "print(y_train.shape)"
   ]
  },
  {
   "cell_type": "code",
   "execution_count": 7,
   "metadata": {
    "ExecuteTime": {
     "end_time": "2022-01-06T10:35:10.652424Z",
     "start_time": "2022-01-06T10:35:10.648378Z"
    },
    "scrolled": true
   },
   "outputs": [
    {
     "data": {
      "text/plain": [
       "array([[0.16626115, 0.15896188, 0.16504461, ..., 0.21654501, 0.21654501,\n",
       "        0.20600162],\n",
       "       [0.15896188, 0.16504461, 0.15815085, ..., 0.21654501, 0.20600162,\n",
       "        0.21553122],\n",
       "       [0.16504461, 0.15815085, 0.14801298, ..., 0.20600162, 0.21553122,\n",
       "        0.21796431],\n",
       "       ...,\n",
       "       [0.73763179, 0.73641525, 0.77007299, ..., 0.62408759, 0.61820762,\n",
       "        0.61719384],\n",
       "       [0.73641525, 0.77007299, 0.74371452, ..., 0.61820762, 0.61719384,\n",
       "        0.64436334],\n",
       "       [0.77007299, 0.74371452, 0.81062449, ..., 0.61719384, 0.64436334,\n",
       "        0.62226277]])"
      ]
     },
     "execution_count": 7,
     "metadata": {},
     "output_type": "execute_result"
    }
   ],
   "source": [
    "X_train"
   ]
  },
  {
   "cell_type": "code",
   "execution_count": 8,
   "metadata": {
    "ExecuteTime": {
     "end_time": "2022-01-06T10:35:11.434265Z",
     "start_time": "2022-01-06T10:35:11.430335Z"
    }
   },
   "outputs": [
    {
     "data": {
      "text/plain": [
       "array([0.21553122, 0.21796431, 0.19870235, ..., 0.64436334, 0.62226277,\n",
       "       0.6202352 ])"
      ]
     },
     "execution_count": 8,
     "metadata": {},
     "output_type": "execute_result"
    }
   ],
   "source": [
    "y_train"
   ]
  },
  {
   "cell_type": "code",
   "execution_count": 9,
   "metadata": {
    "ExecuteTime": {
     "end_time": "2022-01-06T10:35:13.401050Z",
     "start_time": "2022-01-06T10:35:13.398029Z"
    }
   },
   "outputs": [
    {
     "name": "stdout",
     "output_type": "stream",
     "text": [
      "(1975, 60, 1)\n"
     ]
    }
   ],
   "source": [
    "# Reshaping\n",
    "X_train = np.reshape(X_train, (X_train.shape[0], X_train.shape[1], 1))\n",
    "print(X_train.shape)"
   ]
  },
  {
   "cell_type": "code",
   "execution_count": 10,
   "metadata": {
    "ExecuteTime": {
     "end_time": "2022-01-06T10:35:14.638263Z",
     "start_time": "2022-01-06T10:35:14.633322Z"
    }
   },
   "outputs": [
    {
     "data": {
      "text/plain": [
       "array([[[0.16626115],\n",
       "        [0.15896188],\n",
       "        [0.16504461],\n",
       "        ...,\n",
       "        [0.21654501],\n",
       "        [0.21654501],\n",
       "        [0.20600162]],\n",
       "\n",
       "       [[0.15896188],\n",
       "        [0.16504461],\n",
       "        [0.15815085],\n",
       "        ...,\n",
       "        [0.21654501],\n",
       "        [0.20600162],\n",
       "        [0.21553122]],\n",
       "\n",
       "       [[0.16504461],\n",
       "        [0.15815085],\n",
       "        [0.14801298],\n",
       "        ...,\n",
       "        [0.20600162],\n",
       "        [0.21553122],\n",
       "        [0.21796431]],\n",
       "\n",
       "       ...,\n",
       "\n",
       "       [[0.73763179],\n",
       "        [0.73641525],\n",
       "        [0.77007299],\n",
       "        ...,\n",
       "        [0.62408759],\n",
       "        [0.61820762],\n",
       "        [0.61719384]],\n",
       "\n",
       "       [[0.73641525],\n",
       "        [0.77007299],\n",
       "        [0.74371452],\n",
       "        ...,\n",
       "        [0.61820762],\n",
       "        [0.61719384],\n",
       "        [0.64436334]],\n",
       "\n",
       "       [[0.77007299],\n",
       "        [0.74371452],\n",
       "        [0.81062449],\n",
       "        ...,\n",
       "        [0.61719384],\n",
       "        [0.64436334],\n",
       "        [0.62226277]]])"
      ]
     },
     "execution_count": 10,
     "metadata": {},
     "output_type": "execute_result"
    }
   ],
   "source": [
    "X_train"
   ]
  },
  {
   "cell_type": "code",
   "execution_count": 11,
   "metadata": {
    "ExecuteTime": {
     "end_time": "2022-01-06T10:36:36.253452Z",
     "start_time": "2022-01-06T10:35:17.432458Z"
    },
    "scrolled": true
   },
   "outputs": [
    {
     "name": "stdout",
     "output_type": "stream",
     "text": [
      "Model: \"sequential\"\n",
      "_________________________________________________________________\n",
      "Layer (type)                 Output Shape              Param #   \n",
      "=================================================================\n",
      "simple_rnn (SimpleRNN)       (None, 5)                 35        \n",
      "_________________________________________________________________\n",
      "dense (Dense)                (None, 1)                 6         \n",
      "=================================================================\n",
      "Total params: 41\n",
      "Trainable params: 41\n",
      "Non-trainable params: 0\n",
      "_________________________________________________________________\n"
     ]
    }
   ],
   "source": [
    "#  利用Keras创建RNN模型\n",
    "\n",
    "\n",
    "from keras.models import Sequential\n",
    "from keras.layers import Dense\n",
    "from keras.layers import SimpleRNN,LSTM\n",
    "from keras.layers import Dropout\n",
    "\n",
    "\n",
    "# 初始化顺序模型\n",
    "regressor = Sequential()\n",
    "\n",
    "\n",
    "# 定义输入层及带5个神经元的隐藏层\n",
    "## 这里的input_shape是(60, 1)\n",
    "regressor.add(SimpleRNN(units = 5,input_shape = (X_train.shape[1], 1)))\n",
    "\n",
    "# regressor.add(SimpleRNN(units = 50,return_sequences=True,input_shape = (X_train.shape[1], 1)))  # 这样可以定义一个2*隐藏层的RNN\n",
    "# regressor.add(SimpleRNN(units = 5))\n",
    "\n",
    "# regressor.add(LSTM(units = 5,input_shape = (X_train.shape[1], 1)))   # 这样可以定义一个的LSTM\n",
    "# 定义线性的输出层\n",
    "regressor.add(Dense(units = 1))\n",
    "\n",
    "# 模型编译：定义优化算法adam， 目标函数均方根MSE\n",
    "regressor.compile(optimizer = 'adam', loss = 'mean_squared_error')\n",
    "\n",
    "# 模型训练\n",
    "history = regressor.fit(X_train, y_train, epochs = 500, batch_size = 100, validation_split=0.3, verbose=0)\n",
    "\n",
    "regressor.summary()"
   ]
  },
  {
   "cell_type": "code",
   "execution_count": 12,
   "metadata": {
    "ExecuteTime": {
     "end_time": "2022-01-06T10:37:24.062603Z",
     "start_time": "2022-01-06T10:37:24.059805Z"
    }
   },
   "outputs": [
    {
     "name": "stdout",
     "output_type": "stream",
     "text": [
      "('You must install pydot (`pip install pydot`) and install graphviz (see instructions at https://graphviz.gitlab.io/download/) ', 'for plot_model/model_to_dot to work.')\n"
     ]
    }
   ],
   "source": [
    "from keras.utils.vis_utils import plot_model\n",
    "\n",
    "plot_model(regressor, show_shapes=True)"
   ]
  },
  {
   "cell_type": "code",
   "execution_count": 13,
   "metadata": {
    "ExecuteTime": {
     "end_time": "2022-01-06T10:37:34.188233Z",
     "start_time": "2022-01-06T10:37:34.013976Z"
    }
   },
   "outputs": [
    {
     "data": {
      "image/png": "[encoded data removed]",
      "text/plain": [
       "<Figure size 432x288 with 1 Axes>"
      ]
     },
     "metadata": {
      "needs_background": "light"
     },
     "output_type": "display_data"
    }
   ],
   "source": [
    "\n",
    "# 模型评估：拟合效果\n",
    "plt.plot(history.history['loss'],c='blue')    # 蓝色线训练集损失\n",
    "plt.plot(history.history['val_loss'],c='red') # 红色线验证集损失\n",
    "plt.show()"
   ]
  },
  {
   "cell_type": "code",
   "execution_count": 14,
   "metadata": {
    "ExecuteTime": {
     "end_time": "2022-01-06T10:40:03.289450Z",
     "start_time": "2022-01-06T10:40:03.282225Z"
    },
    "scrolled": true
   },
   "outputs": [],
   "source": [
    "# 评估模型测试集效果\n",
    "\n",
    "# 测试数据\n",
    "dataset_test = pd.read_csv('./data/tatatest.csv')\n",
    "dataset_test = dataset_test.sort_values(by='Date').reset_index(drop=True)\n"
   ]
  },
  {
   "cell_type": "code",
   "execution_count": 18,
   "metadata": {
    "ExecuteTime": {
     "end_time": "2022-01-06T10:40:35.105199Z",
     "start_time": "2022-01-06T10:40:35.088458Z"
    }
   },
   "outputs": [
    {
     "data": {
      "text/html": [
       "<div>\n",
       "<style scoped>\n",
       "    .dataframe tbody tr th:only-of-type {\n",
       "        vertical-align: middle;\n",
       "    }\n",
       "\n",
       "    .dataframe tbody tr th {\n",
       "        vertical-align: top;\n",
       "    }\n",
       "\n",
       "    .dataframe thead th {\n",
       "        text-align: right;\n",
       "    }\n",
       "</style>\n",
       "<table border=\"1\" class=\"dataframe\">\n",
       "  <thead>\n",
       "    <tr style=\"text-align: right;\">\n",
       "      <th></th>\n",
       "      <th>Date</th>\n",
       "      <th>Open</th>\n",
       "      <th>High</th>\n",
       "      <th>Low</th>\n",
       "      <th>Last</th>\n",
       "      <th>Close</th>\n",
       "      <th>Total Trade Quantity</th>\n",
       "      <th>Turnover (Lacs)</th>\n",
       "    </tr>\n",
       "  </thead>\n",
       "  <tbody>\n",
       "    <tr>\n",
       "      <th>0</th>\n",
       "      <td>2018-10-01</td>\n",
       "      <td>234.55</td>\n",
       "      <td>234.60</td>\n",
       "      <td>221.05</td>\n",
       "      <td>230.30</td>\n",
       "      <td>230.90</td>\n",
       "      <td>1534749</td>\n",
       "      <td>3486.05</td>\n",
       "    </tr>\n",
       "    <tr>\n",
       "      <th>1</th>\n",
       "      <td>2018-10-03</td>\n",
       "      <td>230.00</td>\n",
       "      <td>237.50</td>\n",
       "      <td>225.75</td>\n",
       "      <td>226.45</td>\n",
       "      <td>227.60</td>\n",
       "      <td>1708590</td>\n",
       "      <td>3960.27</td>\n",
       "    </tr>\n",
       "    <tr>\n",
       "      <th>2</th>\n",
       "      <td>2018-10-04</td>\n",
       "      <td>223.50</td>\n",
       "      <td>227.80</td>\n",
       "      <td>216.15</td>\n",
       "      <td>217.25</td>\n",
       "      <td>218.20</td>\n",
       "      <td>1728786</td>\n",
       "      <td>3815.79</td>\n",
       "    </tr>\n",
       "    <tr>\n",
       "      <th>3</th>\n",
       "      <td>2018-10-05</td>\n",
       "      <td>217.00</td>\n",
       "      <td>218.60</td>\n",
       "      <td>205.90</td>\n",
       "      <td>210.25</td>\n",
       "      <td>209.20</td>\n",
       "      <td>3519515</td>\n",
       "      <td>7407.06</td>\n",
       "    </tr>\n",
       "    <tr>\n",
       "      <th>4</th>\n",
       "      <td>2018-10-08</td>\n",
       "      <td>208.00</td>\n",
       "      <td>222.25</td>\n",
       "      <td>206.85</td>\n",
       "      <td>216.00</td>\n",
       "      <td>215.15</td>\n",
       "      <td>4642146</td>\n",
       "      <td>10062.83</td>\n",
       "    </tr>\n",
       "    <tr>\n",
       "      <th>5</th>\n",
       "      <td>2018-10-09</td>\n",
       "      <td>215.50</td>\n",
       "      <td>219.15</td>\n",
       "      <td>209.60</td>\n",
       "      <td>215.00</td>\n",
       "      <td>216.50</td>\n",
       "      <td>1844462</td>\n",
       "      <td>3940.70</td>\n",
       "    </tr>\n",
       "    <tr>\n",
       "      <th>6</th>\n",
       "      <td>2018-10-10</td>\n",
       "      <td>215.00</td>\n",
       "      <td>229.65</td>\n",
       "      <td>215.00</td>\n",
       "      <td>228.25</td>\n",
       "      <td>228.40</td>\n",
       "      <td>2919278</td>\n",
       "      <td>6557.95</td>\n",
       "    </tr>\n",
       "    <tr>\n",
       "      <th>7</th>\n",
       "      <td>2018-10-11</td>\n",
       "      <td>215.00</td>\n",
       "      <td>229.70</td>\n",
       "      <td>215.00</td>\n",
       "      <td>225.60</td>\n",
       "      <td>224.60</td>\n",
       "      <td>1293881</td>\n",
       "      <td>2890.85</td>\n",
       "    </tr>\n",
       "    <tr>\n",
       "      <th>8</th>\n",
       "      <td>2018-10-12</td>\n",
       "      <td>226.25</td>\n",
       "      <td>232.35</td>\n",
       "      <td>225.50</td>\n",
       "      <td>228.70</td>\n",
       "      <td>229.10</td>\n",
       "      <td>1165527</td>\n",
       "      <td>2675.91</td>\n",
       "    </tr>\n",
       "    <tr>\n",
       "      <th>9</th>\n",
       "      <td>2018-10-15</td>\n",
       "      <td>229.70</td>\n",
       "      <td>237.00</td>\n",
       "      <td>226.80</td>\n",
       "      <td>234.80</td>\n",
       "      <td>234.90</td>\n",
       "      <td>1224339</td>\n",
       "      <td>2845.68</td>\n",
       "    </tr>\n",
       "    <tr>\n",
       "      <th>10</th>\n",
       "      <td>2018-10-16</td>\n",
       "      <td>237.10</td>\n",
       "      <td>237.70</td>\n",
       "      <td>233.05</td>\n",
       "      <td>234.40</td>\n",
       "      <td>235.45</td>\n",
       "      <td>1723113</td>\n",
       "      <td>4052.25</td>\n",
       "    </tr>\n",
       "    <tr>\n",
       "      <th>11</th>\n",
       "      <td>2018-10-17</td>\n",
       "      <td>237.70</td>\n",
       "      <td>240.80</td>\n",
       "      <td>229.45</td>\n",
       "      <td>231.30</td>\n",
       "      <td>231.10</td>\n",
       "      <td>2945914</td>\n",
       "      <td>6961.65</td>\n",
       "    </tr>\n",
       "    <tr>\n",
       "      <th>12</th>\n",
       "      <td>2018-10-19</td>\n",
       "      <td>230.30</td>\n",
       "      <td>232.70</td>\n",
       "      <td>225.50</td>\n",
       "      <td>227.75</td>\n",
       "      <td>227.20</td>\n",
       "      <td>1527904</td>\n",
       "      <td>3490.78</td>\n",
       "    </tr>\n",
       "    <tr>\n",
       "      <th>13</th>\n",
       "      <td>2018-10-22</td>\n",
       "      <td>229.45</td>\n",
       "      <td>231.60</td>\n",
       "      <td>222.00</td>\n",
       "      <td>223.05</td>\n",
       "      <td>223.25</td>\n",
       "      <td>3529711</td>\n",
       "      <td>8028.37</td>\n",
       "    </tr>\n",
       "    <tr>\n",
       "      <th>14</th>\n",
       "      <td>2018-10-23</td>\n",
       "      <td>221.10</td>\n",
       "      <td>222.20</td>\n",
       "      <td>214.75</td>\n",
       "      <td>219.55</td>\n",
       "      <td>218.30</td>\n",
       "      <td>1416279</td>\n",
       "      <td>3092.15</td>\n",
       "    </tr>\n",
       "    <tr>\n",
       "      <th>15</th>\n",
       "      <td>2018-10-24</td>\n",
       "      <td>220.10</td>\n",
       "      <td>221.25</td>\n",
       "      <td>217.05</td>\n",
       "      <td>219.55</td>\n",
       "      <td>219.80</td>\n",
       "      <td>2171956</td>\n",
       "      <td>4771.34</td>\n",
       "    </tr>\n",
       "  </tbody>\n",
       "</table>\n",
       "</div>"
      ],
      "text/plain": [
       "          Date    Open    High     Low    Last   Close  Total Trade Quantity  \\\n",
       "0   2018-10-01  234.55  234.60  221.05  230.30  230.90               1534749   \n",
       "1   2018-10-03  230.00  237.50  225.75  226.45  227.60               1708590   \n",
       "2   2018-10-04  223.50  227.80  216.15  217.25  218.20               1728786   \n",
       "3   2018-10-05  217.00  218.60  205.90  210.25  209.20               3519515   \n",
       "4   2018-10-08  208.00  222.25  206.85  216.00  215.15               4642146   \n",
       "5   2018-10-09  215.50  219.15  209.60  215.00  216.50               1844462   \n",
       "6   2018-10-10  215.00  229.65  215.00  228.25  228.40               2919278   \n",
       "7   2018-10-11  215.00  229.70  215.00  225.60  224.60               1293881   \n",
       "8   2018-10-12  226.25  232.35  225.50  228.70  229.10               1165527   \n",
       "9   2018-10-15  229.70  237.00  226.80  234.80  234.90               1224339   \n",
       "10  2018-10-16  237.10  237.70  233.05  234.40  235.45               1723113   \n",
       "11  2018-10-17  237.70  240.80  229.45  231.30  231.10               2945914   \n",
       "12  2018-10-19  230.30  232.70  225.50  227.75  227.20               1527904   \n",
       "13  2018-10-22  229.45  231.60  222.00  223.05  223.25               3529711   \n",
       "14  2018-10-23  221.10  222.20  214.75  219.55  218.30               1416279   \n",
       "15  2018-10-24  220.10  221.25  217.05  219.55  219.80               2171956   \n",
       "\n",
       "    Turnover (Lacs)  \n",
       "0           3486.05  \n",
       "1           3960.27  \n",
       "2           3815.79  \n",
       "3           7407.06  \n",
       "4          10062.83  \n",
       "5           3940.70  \n",
       "6           6557.95  \n",
       "7           2890.85  \n",
       "8           2675.91  \n",
       "9           2845.68  \n",
       "10          4052.25  \n",
       "11          6961.65  \n",
       "12          3490.78  \n",
       "13          8028.37  \n",
       "14          3092.15  \n",
       "15          4771.34  "
      ]
     },
     "execution_count": 18,
     "metadata": {},
     "output_type": "execute_result"
    }
   ],
   "source": [
    "dataset_test"
   ]
  },
  {
   "cell_type": "code",
   "execution_count": 15,
   "metadata": {
    "ExecuteTime": {
     "end_time": "2022-01-06T10:40:10.034087Z",
     "start_time": "2022-01-06T10:40:10.030601Z"
    }
   },
   "outputs": [],
   "source": [
    "real_stock_price = dataset_test.iloc[:, 1:2].values"
   ]
  },
  {
   "cell_type": "code",
   "execution_count": 19,
   "metadata": {
    "ExecuteTime": {
     "end_time": "2022-01-06T10:40:45.110248Z",
     "start_time": "2022-01-06T10:40:45.105977Z"
    }
   },
   "outputs": [
    {
     "data": {
      "text/plain": [
       "array([[234.55],\n",
       "       [230.  ],\n",
       "       [223.5 ],\n",
       "       [217.  ],\n",
       "       [208.  ],\n",
       "       [215.5 ],\n",
       "       [215.  ],\n",
       "       [215.  ],\n",
       "       [226.25],\n",
       "       [229.7 ],\n",
       "       [237.1 ],\n",
       "       [237.7 ],\n",
       "       [230.3 ],\n",
       "       [229.45],\n",
       "       [221.1 ],\n",
       "       [220.1 ]])"
      ]
     },
     "execution_count": 19,
     "metadata": {},
     "output_type": "execute_result"
    }
   ],
   "source": [
    "real_stock_price"
   ]
  },
  {
   "cell_type": "code",
   "execution_count": 30,
   "metadata": {
    "ExecuteTime": {
     "end_time": "2022-01-06T10:47:04.818267Z",
     "start_time": "2022-01-06T10:47:04.814278Z"
    }
   },
   "outputs": [
    {
     "data": {
      "text/plain": [
       "(2035,)"
      ]
     },
     "execution_count": 30,
     "metadata": {},
     "output_type": "execute_result"
    }
   ],
   "source": [
    "dataset_train['Open'].shape"
   ]
  },
  {
   "cell_type": "code",
   "execution_count": 24,
   "metadata": {
    "ExecuteTime": {
     "end_time": "2022-01-06T10:42:16.270250Z",
     "start_time": "2022-01-06T10:42:16.265112Z"
    }
   },
   "outputs": [
    {
     "data": {
      "text/plain": [
       "0     234.55\n",
       "1     230.00\n",
       "2     223.50\n",
       "3     217.00\n",
       "4     208.00\n",
       "5     215.50\n",
       "6     215.00\n",
       "7     215.00\n",
       "8     226.25\n",
       "9     229.70\n",
       "10    237.10\n",
       "11    237.70\n",
       "12    230.30\n",
       "13    229.45\n",
       "14    221.10\n",
       "15    220.10\n",
       "Name: Open, dtype: float64"
      ]
     },
     "execution_count": 24,
     "metadata": {},
     "output_type": "execute_result"
    }
   ],
   "source": [
    "dataset_test['Open']"
   ]
  },
  {
   "cell_type": "code",
   "execution_count": 21,
   "metadata": {
    "ExecuteTime": {
     "end_time": "2022-01-06T10:41:46.669583Z",
     "start_time": "2022-01-06T10:41:46.666508Z"
    }
   },
   "outputs": [],
   "source": [
    "dataset_total = pd.concat((dataset_train['Open'], dataset_test['Open']), axis = 0)"
   ]
  },
  {
   "cell_type": "code",
   "execution_count": 29,
   "metadata": {
    "ExecuteTime": {
     "end_time": "2022-01-06T10:46:12.203239Z",
     "start_time": "2022-01-06T10:46:12.198951Z"
    }
   },
   "outputs": [
    {
     "data": {
      "text/plain": [
       "2051"
      ]
     },
     "execution_count": 29,
     "metadata": {},
     "output_type": "execute_result"
    }
   ],
   "source": [
    "len(dataset_total)"
   ]
  },
  {
   "cell_type": "code",
   "execution_count": 31,
   "metadata": {
    "ExecuteTime": {
     "end_time": "2022-01-06T10:50:11.050944Z",
     "start_time": "2022-01-06T10:50:11.047745Z"
    }
   },
   "outputs": [],
   "source": [
    "inputs = dataset_total[len(dataset_total) - len(dataset_test) - 60:].values"
   ]
  },
  {
   "cell_type": "code",
   "execution_count": 32,
   "metadata": {
    "ExecuteTime": {
     "end_time": "2022-01-06T10:50:15.381695Z",
     "start_time": "2022-01-06T10:50:15.376773Z"
    }
   },
   "outputs": [
    {
     "data": {
      "text/plain": [
       "array([264.5 , 281.  , 277.45, 269.8 , 268.25, 275.9 , 274.8 , 270.4 ,\n",
       "       265.  , 257.9 , 241.55, 248.4 , 239.7 , 231.25, 238.9 , 244.  ,\n",
       "       248.5 , 235.9 , 241.  , 243.7 , 243.4 , 248.7 , 232.5 , 236.  ,\n",
       "       235.15, 241.  , 237.25, 236.65, 237.3 , 233.  , 235.  , 236.05,\n",
       "       240.8 , 244.  , 246.9 , 240.3 , 234.5 , 231.8 , 237.  , 233.85,\n",
       "       235.35, 237.  , 236.  , 238.2 , 222.  , 224.  , 221.  , 222.5 ,\n",
       "       222.5 , 216.35, 223.45, 233.15, 237.9 , 235.95, 235.  , 233.55,\n",
       "       233.3 , 240.  , 234.55, 234.05, 234.55, 230.  , 223.5 , 217.  ,\n",
       "       208.  , 215.5 , 215.  , 215.  , 226.25, 229.7 , 237.1 , 237.7 ,\n",
       "       230.3 , 229.45, 221.1 , 220.1 ])"
      ]
     },
     "execution_count": 32,
     "metadata": {},
     "output_type": "execute_result"
    }
   ],
   "source": [
    "inputs"
   ]
  },
  {
   "cell_type": "code",
   "execution_count": null,
   "metadata": {},
   "outputs": [],
   "source": [
    "inputs = inputs.reshape(-1,1)\n",
    "inputs = sc.transform(inputs)"
   ]
  },
  {
   "cell_type": "code",
   "execution_count": 17,
   "metadata": {
    "ExecuteTime": {
     "end_time": "2022-01-06T10:40:23.978066Z",
     "start_time": "2022-01-06T10:40:23.974283Z"
    }
   },
   "outputs": [],
   "source": [
    "# 提取测试集\n",
    "X_test = []\n",
    "for i in range(60, 76):\n",
    "    X_test.append(inputs[i-60:i, 0])\n",
    "X_test = np.array(X_test)\n",
    "X_test = np.reshape(X_test, (X_test.shape[0], X_test.shape[1], 1))"
   ]
  },
  {
   "cell_type": "code",
   "execution_count": null,
   "metadata": {},
   "outputs": [],
   "source": [
    "# 模型预测\n",
    "predicted_stock_price = regressor.predict(X_test)\n",
    "# 逆归一化\n",
    "predicted_stock_price = sc.inverse_transform(predicted_stock_price)\n",
    "# 模型评估\n",
    "print('预测与实际差异MSE',sum(pow((predicted_stock_price - real_stock_price),2))/predicted_stock_price.shape[0])\n",
    "print('预测与实际差异MAE',sum(abs(predicted_stock_price - real_stock_price))/predicted_stock_price.shape[0])"
   ]
  },
  {
   "cell_type": "code",
   "execution_count": null,
   "metadata": {},
   "outputs": [],
   "source": [
    "dataset_test.head()"
   ]
  },
  {
   "cell_type": "code",
   "execution_count": null,
   "metadata": {},
   "outputs": [],
   "source": [
    "# 预测与实际差异的可视化\n",
    "plt.plot(real_stock_price, color = 'red', label = 'Real TATA Stock Price')\n",
    "plt.plot(predicted_stock_price, color = 'blue', label = 'Predicted TAT Stock Price')\n",
    "plt.title('TATA Stock Price Prediction')\n",
    "plt.xlabel('samples')\n",
    "plt.ylabel('TATA Stock Price')\n",
    "plt.legend()\n",
    "plt.show()"
   ]
  },
  {
   "cell_type": "code",
   "execution_count": null,
   "metadata": {},
   "outputs": [],
   "source": []
  }
 ],
 "metadata": {
  "kernelspec": {
   "display_name": "Python 3",
   "language": "python",
   "name": "python3"
  },
  "language_info": {
   "codemirror_mode": {
    "name": "ipython",
    "version": 3
   },
   "file_extension": ".py",
   "mimetype": "text/x-python",
   "name": "python",
   "nbconvert_exporter": "python",
   "pygments_lexer": "ipython3",
   "version": "3.8.8"
  },
  "toc": {
   "base_numbering": 1,
   "nav_menu": {},
   "number_sections": true,
   "sideBar": true,
   "skip_h1_title": false,
   "title_cell": "Table of Contents",
   "title_sidebar": "Contents",
   "toc_cell": false,
   "toc_position": {},
   "toc_section_display": true,
   "toc_window_display": false
  }
 },
 "nbformat": 4,
 "nbformat_minor": 2
}
