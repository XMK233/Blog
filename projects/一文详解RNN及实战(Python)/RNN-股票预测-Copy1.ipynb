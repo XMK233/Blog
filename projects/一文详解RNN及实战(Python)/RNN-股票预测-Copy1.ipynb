{
 "cells": [
  {
   "cell_type": "code",
   "execution_count": 1,
   "metadata": {
    "ExecuteTime": {
     "end_time": "2022-01-06T13:02:23.054860Z",
     "start_time": "2022-01-06T13:02:22.356505Z"
    }
   },
   "outputs": [],
   "source": [
    "\"\"\"\n",
    "author：算法进阶\n",
    "https://github.com/aialgorithm/Blog\n",
    "\"\"\"\n",
    "\n",
    "import numpy as np\n",
    "import matplotlib.pyplot as plt\n",
    "import pandas as pd"
   ]
  },
  {
   "cell_type": "code",
   "execution_count": 2,
   "metadata": {
    "ExecuteTime": {
     "end_time": "2022-01-06T13:02:23.081213Z",
     "start_time": "2022-01-06T13:02:23.057120Z"
    }
   },
   "outputs": [
    {
     "name": "stdout",
     "output_type": "stream",
     "text": [
      "(152, 7)\n"
     ]
    },
    {
     "data": {
      "text/html": [
       "<div>\n",
       "<style scoped>\n",
       "    .dataframe tbody tr th:only-of-type {\n",
       "        vertical-align: middle;\n",
       "    }\n",
       "\n",
       "    .dataframe tbody tr th {\n",
       "        vertical-align: top;\n",
       "    }\n",
       "\n",
       "    .dataframe thead th {\n",
       "        text-align: right;\n",
       "    }\n",
       "</style>\n",
       "<table border=\"1\" class=\"dataframe\">\n",
       "  <thead>\n",
       "    <tr style=\"text-align: right;\">\n",
       "      <th></th>\n",
       "      <th>Date</th>\n",
       "      <th>High</th>\n",
       "      <th>Low</th>\n",
       "      <th>Open</th>\n",
       "      <th>Close</th>\n",
       "      <th>Volume</th>\n",
       "      <th>Adj Close</th>\n",
       "    </tr>\n",
       "  </thead>\n",
       "  <tbody>\n",
       "    <tr>\n",
       "      <th>0</th>\n",
       "      <td>2021-01-04</td>\n",
       "      <td>5.15</td>\n",
       "      <td>5.05</td>\n",
       "      <td>5.11</td>\n",
       "      <td>5.08</td>\n",
       "      <td>34690661</td>\n",
       "      <td>5.08</td>\n",
       "    </tr>\n",
       "    <tr>\n",
       "      <th>1</th>\n",
       "      <td>2021-01-05</td>\n",
       "      <td>5.12</td>\n",
       "      <td>4.98</td>\n",
       "      <td>5.08</td>\n",
       "      <td>5.02</td>\n",
       "      <td>36005214</td>\n",
       "      <td>5.02</td>\n",
       "    </tr>\n",
       "    <tr>\n",
       "      <th>2</th>\n",
       "      <td>2021-01-06</td>\n",
       "      <td>5.08</td>\n",
       "      <td>4.89</td>\n",
       "      <td>5.06</td>\n",
       "      <td>4.93</td>\n",
       "      <td>30251660</td>\n",
       "      <td>4.93</td>\n",
       "    </tr>\n",
       "    <tr>\n",
       "      <th>3</th>\n",
       "      <td>2021-01-07</td>\n",
       "      <td>4.94</td>\n",
       "      <td>4.55</td>\n",
       "      <td>4.93</td>\n",
       "      <td>4.73</td>\n",
       "      <td>52366823</td>\n",
       "      <td>4.73</td>\n",
       "    </tr>\n",
       "    <tr>\n",
       "      <th>4</th>\n",
       "      <td>2021-01-08</td>\n",
       "      <td>5.03</td>\n",
       "      <td>4.61</td>\n",
       "      <td>4.70</td>\n",
       "      <td>4.81</td>\n",
       "      <td>49958645</td>\n",
       "      <td>4.81</td>\n",
       "    </tr>\n",
       "  </tbody>\n",
       "</table>\n",
       "</div>"
      ],
      "text/plain": [
       "         Date  High   Low  Open  Close    Volume  Adj Close\n",
       "0  2021-01-04  5.15  5.05  5.11   5.08  34690661       5.08\n",
       "1  2021-01-05  5.12  4.98  5.08   5.02  36005214       5.02\n",
       "2  2021-01-06  5.08  4.89  5.06   4.93  30251660       4.93\n",
       "3  2021-01-07  4.94  4.55  4.93   4.73  52366823       4.73\n",
       "4  2021-01-08  5.03  4.61  4.70   4.81  49958645       4.81"
      ]
     },
     "execution_count": 2,
     "metadata": {},
     "output_type": "execute_result"
    }
   ],
   "source": [
    "# 导入股票数据，选取股票开盘价序列数据\n",
    "dataset_train = pd.read_csv('../../../../BitBucket/stock_exploration/originalData/20210817/300002.csv')\n",
    "dataset_train = dataset_train.sort_values(by='Date').reset_index(drop=True)\n",
    "training_set = dataset_train.iloc[:, 1:2].values\n",
    "print(dataset_train.shape)\n",
    "dataset_train.head()"
   ]
  },
  {
   "cell_type": "code",
   "execution_count": 3,
   "metadata": {
    "ExecuteTime": {
     "end_time": "2022-01-06T13:02:23.093785Z",
     "start_time": "2022-01-06T13:02:23.087501Z"
    }
   },
   "outputs": [
    {
     "data": {
      "text/plain": [
       "array([[5.1500001 ],\n",
       "       [5.11999989],\n",
       "       [5.07999992],\n",
       "       [4.94000006],\n",
       "       [5.03000021],\n",
       "       [4.92999983],\n",
       "       [4.84000015],\n",
       "       [4.65999985],\n",
       "       [4.51000023],\n",
       "       [4.6500001 ],\n",
       "       [4.65999985],\n",
       "       [4.80000019],\n",
       "       [4.71999979],\n",
       "       [4.78000021],\n",
       "       [4.63000011],\n",
       "       [4.5       ],\n",
       "       [4.44000006],\n",
       "       [4.6500001 ],\n",
       "       [4.71000004],\n",
       "       [4.69999981],\n",
       "       [4.48000002],\n",
       "       [4.67999983],\n",
       "       [4.61999989],\n",
       "       [4.4000001 ],\n",
       "       [4.3499999 ],\n",
       "       [4.17999983],\n",
       "       [4.1500001 ],\n",
       "       [4.19000006],\n",
       "       [4.44000006],\n",
       "       [4.5999999 ],\n",
       "       [4.84000015],\n",
       "       [4.75      ],\n",
       "       [4.67000008],\n",
       "       [4.63000011],\n",
       "       [4.61000013],\n",
       "       [4.63999987],\n",
       "       [4.67999983],\n",
       "       [4.5999999 ],\n",
       "       [4.6500001 ],\n",
       "       [4.73999977],\n",
       "       [4.92999983],\n",
       "       [5.03999996],\n",
       "       [4.82000017],\n",
       "       [4.67999983],\n",
       "       [4.65999985],\n",
       "       [4.53000021],\n",
       "       [5.05999994],\n",
       "       [4.96000004],\n",
       "       [4.80000019],\n",
       "       [4.8499999 ],\n",
       "       [4.73999977],\n",
       "       [4.71000004],\n",
       "       [4.80000019],\n",
       "       [4.90999985],\n",
       "       [4.86000013],\n",
       "       [4.88000011],\n",
       "       [4.82999992],\n",
       "       [4.71999979],\n",
       "       [4.69000006],\n",
       "       [4.61999989],\n",
       "       [4.76999998],\n",
       "       [4.71000004],\n",
       "       [4.61999989],\n",
       "       [4.57000017],\n",
       "       [4.51999998],\n",
       "       [4.46000004],\n",
       "       [4.44999981],\n",
       "       [4.42000008],\n",
       "       [4.53999996],\n",
       "       [4.57999992],\n",
       "       [4.90999985],\n",
       "       [4.80000019],\n",
       "       [4.80999994],\n",
       "       [4.76999998],\n",
       "       [4.71000004],\n",
       "       [4.65999985],\n",
       "       [4.5999999 ],\n",
       "       [4.57999992],\n",
       "       [4.53000021],\n",
       "       [4.53999996],\n",
       "       [4.48999977],\n",
       "       [4.51000023],\n",
       "       [4.53000021],\n",
       "       [4.57000017],\n",
       "       [4.63999987],\n",
       "       [4.67999983],\n",
       "       [4.67999983],\n",
       "       [4.59000015],\n",
       "       [4.57000017],\n",
       "       [4.48000002],\n",
       "       [4.42999983],\n",
       "       [4.46000004],\n",
       "       [4.51999998],\n",
       "       [4.57000017],\n",
       "       [4.5999999 ],\n",
       "       [4.67000008],\n",
       "       [4.63000011],\n",
       "       [4.61999989],\n",
       "       [4.61000013],\n",
       "       [4.63999987],\n",
       "       [5.03999996],\n",
       "       [4.75      ],\n",
       "       [4.92000008],\n",
       "       [4.9000001 ],\n",
       "       [5.01000023],\n",
       "       [5.34000015],\n",
       "       [5.3499999 ],\n",
       "       [5.34000015],\n",
       "       [5.19000006],\n",
       "       [5.0999999 ],\n",
       "       [5.23000002],\n",
       "       [5.17000008],\n",
       "       [5.07000017],\n",
       "       [5.        ],\n",
       "       [4.88000011],\n",
       "       [4.86000013],\n",
       "       [4.98000002],\n",
       "       [4.92000008],\n",
       "       [4.86999989],\n",
       "       [4.69999981],\n",
       "       [4.84000015],\n",
       "       [4.8499999 ],\n",
       "       [4.96000004],\n",
       "       [4.82999992],\n",
       "       [4.88999987],\n",
       "       [5.05999994],\n",
       "       [5.07999992],\n",
       "       [5.03000021],\n",
       "       [4.96000004],\n",
       "       [4.90999985],\n",
       "       [4.98000002],\n",
       "       [5.03999996],\n",
       "       [5.05999994],\n",
       "       [5.13999987],\n",
       "       [5.07999992],\n",
       "       [4.92999983],\n",
       "       [4.84000015],\n",
       "       [4.76999998],\n",
       "       [4.53999996],\n",
       "       [4.61000013],\n",
       "       [4.65999985],\n",
       "       [5.57999992],\n",
       "       [5.84000015],\n",
       "       [6.05000019],\n",
       "       [5.94999981],\n",
       "       [5.82999992],\n",
       "       [5.65999985],\n",
       "       [5.65999985],\n",
       "       [6.1500001 ],\n",
       "       [5.82999992],\n",
       "       [5.53999996],\n",
       "       [5.46000004]])"
      ]
     },
     "execution_count": 3,
     "metadata": {},
     "output_type": "execute_result"
    }
   ],
   "source": [
    "## 开盘价\n",
    "training_set"
   ]
  },
  {
   "cell_type": "code",
   "execution_count": 4,
   "metadata": {
    "ExecuteTime": {
     "end_time": "2022-01-06T13:02:23.862155Z",
     "start_time": "2022-01-06T13:02:23.096289Z"
    }
   },
   "outputs": [],
   "source": [
    "# 对训练数据max-min归一化，加速网络收敛\n",
    "# max-min离差标准化帮助我们转化不同比例上的数据，消除特殊特征的主导。并且它不需要对数据的分布进行假设（比如k近邻和人工神经网络）。但是，归一化（离差标准化）不能很好地处理异常值。相反，标准化（中心标准化）可以更好地处理异常值，以及加速诸如梯度下降等算法的收敛。所以我们通常选择中心标准化。\n",
    "from sklearn.preprocessing import MinMaxScaler,StandardScaler\n",
    "# sc = StandardScaler()\n",
    "sc = MinMaxScaler(feature_range = (0, 1))\n",
    "training_set_scaled = sc.fit_transform(training_set)"
   ]
  },
  {
   "cell_type": "code",
   "execution_count": 5,
   "metadata": {
    "ExecuteTime": {
     "end_time": "2022-01-06T13:02:23.870160Z",
     "start_time": "2022-01-06T13:02:23.863851Z"
    }
   },
   "outputs": [
    {
     "data": {
      "text/plain": [
       "array([[0.5       ],\n",
       "       [0.4849999 ],\n",
       "       [0.46499991],\n",
       "       [0.39499998],\n",
       "       [0.44000006],\n",
       "       [0.38999987],\n",
       "       [0.34500003],\n",
       "       [0.25499988],\n",
       "       [0.18000007],\n",
       "       [0.25      ],\n",
       "       [0.25499988],\n",
       "       [0.32500005],\n",
       "       [0.28499985],\n",
       "       [0.31500006],\n",
       "       [0.24000001],\n",
       "       [0.17499995],\n",
       "       [0.14499998],\n",
       "       [0.25      ],\n",
       "       [0.27999997],\n",
       "       [0.27499986],\n",
       "       [0.16499996],\n",
       "       [0.26499987],\n",
       "       [0.2349999 ],\n",
       "       [0.125     ],\n",
       "       [0.0999999 ],\n",
       "       [0.01499987],\n",
       "       [0.        ],\n",
       "       [0.01999998],\n",
       "       [0.14499998],\n",
       "       [0.2249999 ],\n",
       "       [0.34500003],\n",
       "       [0.29999995],\n",
       "       [0.25999999],\n",
       "       [0.24000001],\n",
       "       [0.23000002],\n",
       "       [0.24499989],\n",
       "       [0.26499987],\n",
       "       [0.2249999 ],\n",
       "       [0.25      ],\n",
       "       [0.29499984],\n",
       "       [0.38999987],\n",
       "       [0.44499993],\n",
       "       [0.33500004],\n",
       "       [0.26499987],\n",
       "       [0.25499988],\n",
       "       [0.19000006],\n",
       "       [0.45499992],\n",
       "       [0.40499997],\n",
       "       [0.32500005],\n",
       "       [0.3499999 ],\n",
       "       [0.29499984],\n",
       "       [0.27999997],\n",
       "       [0.32500005],\n",
       "       [0.37999988],\n",
       "       [0.35500002],\n",
       "       [0.36500001],\n",
       "       [0.33999991],\n",
       "       [0.28499985],\n",
       "       [0.26999998],\n",
       "       [0.2349999 ],\n",
       "       [0.30999994],\n",
       "       [0.27999997],\n",
       "       [0.2349999 ],\n",
       "       [0.21000004],\n",
       "       [0.18499994],\n",
       "       [0.15499997],\n",
       "       [0.14999986],\n",
       "       [0.13499999],\n",
       "       [0.19499993],\n",
       "       [0.21499991],\n",
       "       [0.37999988],\n",
       "       [0.32500005],\n",
       "       [0.32999992],\n",
       "       [0.30999994],\n",
       "       [0.27999997],\n",
       "       [0.25499988],\n",
       "       [0.2249999 ],\n",
       "       [0.21499991],\n",
       "       [0.19000006],\n",
       "       [0.19499993],\n",
       "       [0.16999984],\n",
       "       [0.18000007],\n",
       "       [0.19000006],\n",
       "       [0.21000004],\n",
       "       [0.24499989],\n",
       "       [0.26499987],\n",
       "       [0.26499987],\n",
       "       [0.22000003],\n",
       "       [0.21000004],\n",
       "       [0.16499996],\n",
       "       [0.13999987],\n",
       "       [0.15499997],\n",
       "       [0.18499994],\n",
       "       [0.21000004],\n",
       "       [0.2249999 ],\n",
       "       [0.25999999],\n",
       "       [0.24000001],\n",
       "       [0.2349999 ],\n",
       "       [0.23000002],\n",
       "       [0.24499989],\n",
       "       [0.44499993],\n",
       "       [0.29999995],\n",
       "       [0.38499999],\n",
       "       [0.375     ],\n",
       "       [0.43000007],\n",
       "       [0.59500003],\n",
       "       [0.5999999 ],\n",
       "       [0.59500003],\n",
       "       [0.51999998],\n",
       "       [0.4749999 ],\n",
       "       [0.53999996],\n",
       "       [0.50999999],\n",
       "       [0.46000004],\n",
       "       [0.42499995],\n",
       "       [0.36500001],\n",
       "       [0.35500002],\n",
       "       [0.41499996],\n",
       "       [0.38499999],\n",
       "       [0.3599999 ],\n",
       "       [0.27499986],\n",
       "       [0.34500003],\n",
       "       [0.3499999 ],\n",
       "       [0.40499997],\n",
       "       [0.33999991],\n",
       "       [0.36999989],\n",
       "       [0.45499992],\n",
       "       [0.46499991],\n",
       "       [0.44000006],\n",
       "       [0.40499997],\n",
       "       [0.37999988],\n",
       "       [0.41499996],\n",
       "       [0.44499993],\n",
       "       [0.45499992],\n",
       "       [0.49499989],\n",
       "       [0.46499991],\n",
       "       [0.38999987],\n",
       "       [0.34500003],\n",
       "       [0.30999994],\n",
       "       [0.19499993],\n",
       "       [0.23000002],\n",
       "       [0.25499988],\n",
       "       [0.71499991],\n",
       "       [0.84500003],\n",
       "       [0.95000005],\n",
       "       [0.89999986],\n",
       "       [0.83999991],\n",
       "       [0.75499988],\n",
       "       [0.75499988],\n",
       "       [1.        ],\n",
       "       [0.83999991],\n",
       "       [0.69499993],\n",
       "       [0.65499997]])"
      ]
     },
     "execution_count": 5,
     "metadata": {},
     "output_type": "execute_result"
    }
   ],
   "source": [
    "## 标准化后的开盘价\n",
    "training_set_scaled"
   ]
  },
  {
   "cell_type": "code",
   "execution_count": 6,
   "metadata": {
    "ExecuteTime": {
     "end_time": "2022-01-06T13:02:23.877366Z",
     "start_time": "2022-01-06T13:02:23.872648Z"
    }
   },
   "outputs": [
    {
     "name": "stdout",
     "output_type": "stream",
     "text": [
      "(92, 60)\n",
      "(92,)\n"
     ]
    }
   ],
   "source": [
    "# 数据整理为样本及标签：60 timesteps and 1 output\n",
    "# 每条样本含60个时间步，对应下一时间步作为标签值\n",
    "X_train = []\n",
    "y_train = []\n",
    "for i in range(60, 152):\n",
    "    X_train.append(training_set_scaled[i-60:i, 0])\n",
    "    y_train.append(training_set_scaled[i, 0])\n",
    "X_train, y_train = np.array(X_train), np.array(y_train)\n",
    "\n",
    "print(X_train.shape)\n",
    "print(y_train.shape)"
   ]
  },
  {
   "cell_type": "code",
   "execution_count": 7,
   "metadata": {
    "ExecuteTime": {
     "end_time": "2022-01-06T13:02:23.886692Z",
     "start_time": "2022-01-06T13:02:23.882449Z"
    },
    "scrolled": true
   },
   "outputs": [
    {
     "data": {
      "text/plain": [
       "array([[0.5       , 0.4849999 , 0.46499991, ..., 0.28499985, 0.26999998,\n",
       "        0.2349999 ],\n",
       "       [0.4849999 , 0.46499991, 0.39499998, ..., 0.26999998, 0.2349999 ,\n",
       "        0.30999994],\n",
       "       [0.46499991, 0.39499998, 0.44000006, ..., 0.2349999 , 0.30999994,\n",
       "        0.27999997],\n",
       "       ...,\n",
       "       [0.16499996, 0.13999987, 0.15499997, ..., 0.75499988, 0.75499988,\n",
       "        1.        ],\n",
       "       [0.13999987, 0.15499997, 0.18499994, ..., 0.75499988, 1.        ,\n",
       "        0.83999991],\n",
       "       [0.15499997, 0.18499994, 0.21000004, ..., 1.        , 0.83999991,\n",
       "        0.69499993]])"
      ]
     },
     "execution_count": 7,
     "metadata": {},
     "output_type": "execute_result"
    }
   ],
   "source": [
    "X_train"
   ]
  },
  {
   "cell_type": "code",
   "execution_count": 8,
   "metadata": {
    "ExecuteTime": {
     "end_time": "2022-01-06T13:02:23.895004Z",
     "start_time": "2022-01-06T13:02:23.890436Z"
    }
   },
   "outputs": [
    {
     "data": {
      "text/plain": [
       "array([0.30999994, 0.27999997, 0.2349999 , 0.21000004, 0.18499994,\n",
       "       0.15499997, 0.14999986, 0.13499999, 0.19499993, 0.21499991,\n",
       "       0.37999988, 0.32500005, 0.32999992, 0.30999994, 0.27999997,\n",
       "       0.25499988, 0.2249999 , 0.21499991, 0.19000006, 0.19499993,\n",
       "       0.16999984, 0.18000007, 0.19000006, 0.21000004, 0.24499989,\n",
       "       0.26499987, 0.26499987, 0.22000003, 0.21000004, 0.16499996,\n",
       "       0.13999987, 0.15499997, 0.18499994, 0.21000004, 0.2249999 ,\n",
       "       0.25999999, 0.24000001, 0.2349999 , 0.23000002, 0.24499989,\n",
       "       0.44499993, 0.29999995, 0.38499999, 0.375     , 0.43000007,\n",
       "       0.59500003, 0.5999999 , 0.59500003, 0.51999998, 0.4749999 ,\n",
       "       0.53999996, 0.50999999, 0.46000004, 0.42499995, 0.36500001,\n",
       "       0.35500002, 0.41499996, 0.38499999, 0.3599999 , 0.27499986,\n",
       "       0.34500003, 0.3499999 , 0.40499997, 0.33999991, 0.36999989,\n",
       "       0.45499992, 0.46499991, 0.44000006, 0.40499997, 0.37999988,\n",
       "       0.41499996, 0.44499993, 0.45499992, 0.49499989, 0.46499991,\n",
       "       0.38999987, 0.34500003, 0.30999994, 0.19499993, 0.23000002,\n",
       "       0.25499988, 0.71499991, 0.84500003, 0.95000005, 0.89999986,\n",
       "       0.83999991, 0.75499988, 0.75499988, 1.        , 0.83999991,\n",
       "       0.69499993, 0.65499997])"
      ]
     },
     "execution_count": 8,
     "metadata": {},
     "output_type": "execute_result"
    }
   ],
   "source": [
    "y_train"
   ]
  },
  {
   "cell_type": "code",
   "execution_count": 9,
   "metadata": {
    "ExecuteTime": {
     "end_time": "2022-01-06T13:02:23.900389Z",
     "start_time": "2022-01-06T13:02:23.897465Z"
    }
   },
   "outputs": [
    {
     "name": "stdout",
     "output_type": "stream",
     "text": [
      "(92, 60, 1)\n"
     ]
    }
   ],
   "source": [
    "# Reshaping\n",
    "X_train = np.reshape(X_train, (X_train.shape[0], X_train.shape[1], 1))\n",
    "print(X_train.shape)"
   ]
  },
  {
   "cell_type": "code",
   "execution_count": 10,
   "metadata": {
    "ExecuteTime": {
     "end_time": "2022-01-06T13:02:23.906405Z",
     "start_time": "2022-01-06T13:02:23.902238Z"
    }
   },
   "outputs": [
    {
     "data": {
      "text/plain": [
       "array([[[0.5       ],\n",
       "        [0.4849999 ],\n",
       "        [0.46499991],\n",
       "        ...,\n",
       "        [0.28499985],\n",
       "        [0.26999998],\n",
       "        [0.2349999 ]],\n",
       "\n",
       "       [[0.4849999 ],\n",
       "        [0.46499991],\n",
       "        [0.39499998],\n",
       "        ...,\n",
       "        [0.26999998],\n",
       "        [0.2349999 ],\n",
       "        [0.30999994]],\n",
       "\n",
       "       [[0.46499991],\n",
       "        [0.39499998],\n",
       "        [0.44000006],\n",
       "        ...,\n",
       "        [0.2349999 ],\n",
       "        [0.30999994],\n",
       "        [0.27999997]],\n",
       "\n",
       "       ...,\n",
       "\n",
       "       [[0.16499996],\n",
       "        [0.13999987],\n",
       "        [0.15499997],\n",
       "        ...,\n",
       "        [0.75499988],\n",
       "        [0.75499988],\n",
       "        [1.        ]],\n",
       "\n",
       "       [[0.13999987],\n",
       "        [0.15499997],\n",
       "        [0.18499994],\n",
       "        ...,\n",
       "        [0.75499988],\n",
       "        [1.        ],\n",
       "        [0.83999991]],\n",
       "\n",
       "       [[0.15499997],\n",
       "        [0.18499994],\n",
       "        [0.21000004],\n",
       "        ...,\n",
       "        [1.        ],\n",
       "        [0.83999991],\n",
       "        [0.69499993]]])"
      ]
     },
     "execution_count": 10,
     "metadata": {},
     "output_type": "execute_result"
    }
   ],
   "source": [
    "X_train"
   ]
  },
  {
   "cell_type": "code",
   "execution_count": 11,
   "metadata": {
    "ExecuteTime": {
     "end_time": "2022-01-06T13:02:29.116573Z",
     "start_time": "2022-01-06T13:02:23.908152Z"
    },
    "scrolled": true
   },
   "outputs": [
    {
     "name": "stdout",
     "output_type": "stream",
     "text": [
      "Model: \"sequential\"\n",
      "_________________________________________________________________\n",
      "Layer (type)                 Output Shape              Param #   \n",
      "=================================================================\n",
      "simple_rnn (SimpleRNN)       (None, 5)                 35        \n",
      "_________________________________________________________________\n",
      "dense (Dense)                (None, 1)                 6         \n",
      "=================================================================\n",
      "Total params: 41\n",
      "Trainable params: 41\n",
      "Non-trainable params: 0\n",
      "_________________________________________________________________\n"
     ]
    }
   ],
   "source": [
    "#  利用Keras创建RNN模型\n",
    "\n",
    "\n",
    "from keras.models import Sequential\n",
    "from keras.layers import Dense\n",
    "from keras.layers import SimpleRNN,LSTM\n",
    "from keras.layers import Dropout\n",
    "\n",
    "\n",
    "# 初始化顺序模型\n",
    "regressor = Sequential()\n",
    "\n",
    "\n",
    "# 定义输入层及带5个神经元的隐藏层\n",
    "## 这里的input_shape是(60, 1)\n",
    "regressor.add(SimpleRNN(units = 5,input_shape = (X_train.shape[1], 1)))\n",
    "\n",
    "# regressor.add(SimpleRNN(units = 50,return_sequences=True,input_shape = (X_train.shape[1], 1)))  # 这样可以定义一个2*隐藏层的RNN\n",
    "# regressor.add(SimpleRNN(units = 5))\n",
    "\n",
    "# regressor.add(LSTM(units = 5,input_shape = (X_train.shape[1], 1)))   # 这样可以定义一个的LSTM\n",
    "# 定义线性的输出层\n",
    "regressor.add(Dense(units = 1))\n",
    "\n",
    "# 模型编译：定义优化算法adam， 目标函数均方根MSE\n",
    "regressor.compile(optimizer = 'adam', loss = 'mean_squared_error')\n",
    "\n",
    "# 模型训练\n",
    "history = regressor.fit(X_train, y_train, epochs = 50, batch_size = 100, validation_split=0.3, verbose=0)\n",
    "\n",
    "regressor.summary()"
   ]
  },
  {
   "cell_type": "code",
   "execution_count": 12,
   "metadata": {
    "ExecuteTime": {
     "end_time": "2022-01-06T13:02:30.958023Z",
     "start_time": "2022-01-06T13:02:29.118192Z"
    }
   },
   "outputs": [
    {
     "data": {
      "image/png": "[encoded data removed]",
      "text/plain": [
       "<IPython.core.display.Image object>"
      ]
     },
     "execution_count": 12,
     "metadata": {},
     "output_type": "execute_result"
    }
   ],
   "source": [
    "from keras.utils.vis_utils import plot_model\n",
    "\n",
    "plot_model(regressor, show_shapes=True)"
   ]
  },
  {
   "cell_type": "code",
   "execution_count": 13,
   "metadata": {
    "ExecuteTime": {
     "end_time": "2022-01-06T13:02:31.123750Z",
     "start_time": "2022-01-06T13:02:30.960775Z"
    }
   },
   "outputs": [
    {
     "data": {
      "image/png": "[encoded data removed]",
      "text/plain": [
       "<Figure size 432x288 with 1 Axes>"
      ]
     },
     "metadata": {
      "needs_background": "light"
     },
     "output_type": "display_data"
    }
   ],
   "source": [
    "\n",
    "# 模型评估：拟合效果\n",
    "plt.plot(history.history['loss'],c='blue')    # 蓝色线训练集损失\n",
    "plt.plot(history.history['val_loss'],c='red') # 红色线验证集损失\n",
    "plt.show()"
   ]
  },
  {
   "cell_type": "code",
   "execution_count": 29,
   "metadata": {
    "ExecuteTime": {
     "end_time": "2022-01-06T13:03:09.771264Z",
     "start_time": "2022-01-06T13:03:09.765107Z"
    },
    "scrolled": true
   },
   "outputs": [],
   "source": [
    "# 评估模型测试集效果\n",
    "\n",
    "# 测试数据\n",
    "dataset_test = pd.read_csv('../../../../BitBucket/stock_exploration/originalData/20210817/300002.csv')\n",
    "dataset_test = dataset_test.sort_values(by='Date').reset_index(drop=True)\n"
   ]
  },
  {
   "cell_type": "code",
   "execution_count": 30,
   "metadata": {
    "ExecuteTime": {
     "end_time": "2022-01-06T13:03:10.404521Z",
     "start_time": "2022-01-06T13:03:10.388105Z"
    }
   },
   "outputs": [
    {
     "data": {
      "text/html": [
       "<div>\n",
       "<style scoped>\n",
       "    .dataframe tbody tr th:only-of-type {\n",
       "        vertical-align: middle;\n",
       "    }\n",
       "\n",
       "    .dataframe tbody tr th {\n",
       "        vertical-align: top;\n",
       "    }\n",
       "\n",
       "    .dataframe thead th {\n",
       "        text-align: right;\n",
       "    }\n",
       "</style>\n",
       "<table border=\"1\" class=\"dataframe\">\n",
       "  <thead>\n",
       "    <tr style=\"text-align: right;\">\n",
       "      <th></th>\n",
       "      <th>Date</th>\n",
       "      <th>High</th>\n",
       "      <th>Low</th>\n",
       "      <th>Open</th>\n",
       "      <th>Close</th>\n",
       "      <th>Volume</th>\n",
       "      <th>Adj Close</th>\n",
       "    </tr>\n",
       "  </thead>\n",
       "  <tbody>\n",
       "    <tr>\n",
       "      <th>0</th>\n",
       "      <td>2021-01-04</td>\n",
       "      <td>5.15</td>\n",
       "      <td>5.05</td>\n",
       "      <td>5.11</td>\n",
       "      <td>5.08</td>\n",
       "      <td>34690661</td>\n",
       "      <td>5.08</td>\n",
       "    </tr>\n",
       "    <tr>\n",
       "      <th>1</th>\n",
       "      <td>2021-01-05</td>\n",
       "      <td>5.12</td>\n",
       "      <td>4.98</td>\n",
       "      <td>5.08</td>\n",
       "      <td>5.02</td>\n",
       "      <td>36005214</td>\n",
       "      <td>5.02</td>\n",
       "    </tr>\n",
       "    <tr>\n",
       "      <th>2</th>\n",
       "      <td>2021-01-06</td>\n",
       "      <td>5.08</td>\n",
       "      <td>4.89</td>\n",
       "      <td>5.06</td>\n",
       "      <td>4.93</td>\n",
       "      <td>30251660</td>\n",
       "      <td>4.93</td>\n",
       "    </tr>\n",
       "    <tr>\n",
       "      <th>3</th>\n",
       "      <td>2021-01-07</td>\n",
       "      <td>4.94</td>\n",
       "      <td>4.55</td>\n",
       "      <td>4.93</td>\n",
       "      <td>4.73</td>\n",
       "      <td>52366823</td>\n",
       "      <td>4.73</td>\n",
       "    </tr>\n",
       "    <tr>\n",
       "      <th>4</th>\n",
       "      <td>2021-01-08</td>\n",
       "      <td>5.03</td>\n",
       "      <td>4.61</td>\n",
       "      <td>4.70</td>\n",
       "      <td>4.81</td>\n",
       "      <td>49958645</td>\n",
       "      <td>4.81</td>\n",
       "    </tr>\n",
       "    <tr>\n",
       "      <th>...</th>\n",
       "      <td>...</td>\n",
       "      <td>...</td>\n",
       "      <td>...</td>\n",
       "      <td>...</td>\n",
       "      <td>...</td>\n",
       "      <td>...</td>\n",
       "      <td>...</td>\n",
       "    </tr>\n",
       "    <tr>\n",
       "      <th>147</th>\n",
       "      <td>2021-08-11</td>\n",
       "      <td>5.66</td>\n",
       "      <td>5.51</td>\n",
       "      <td>5.55</td>\n",
       "      <td>5.52</td>\n",
       "      <td>75053194</td>\n",
       "      <td>5.52</td>\n",
       "    </tr>\n",
       "    <tr>\n",
       "      <th>148</th>\n",
       "      <td>2021-08-12</td>\n",
       "      <td>6.15</td>\n",
       "      <td>5.53</td>\n",
       "      <td>5.55</td>\n",
       "      <td>5.81</td>\n",
       "      <td>190118060</td>\n",
       "      <td>5.81</td>\n",
       "    </tr>\n",
       "    <tr>\n",
       "      <th>149</th>\n",
       "      <td>2021-08-13</td>\n",
       "      <td>5.83</td>\n",
       "      <td>5.56</td>\n",
       "      <td>5.79</td>\n",
       "      <td>5.58</td>\n",
       "      <td>101540589</td>\n",
       "      <td>5.58</td>\n",
       "    </tr>\n",
       "    <tr>\n",
       "      <th>150</th>\n",
       "      <td>2021-08-16</td>\n",
       "      <td>5.54</td>\n",
       "      <td>5.33</td>\n",
       "      <td>5.51</td>\n",
       "      <td>5.36</td>\n",
       "      <td>86862209</td>\n",
       "      <td>5.36</td>\n",
       "    </tr>\n",
       "    <tr>\n",
       "      <th>151</th>\n",
       "      <td>2021-08-17</td>\n",
       "      <td>5.46</td>\n",
       "      <td>5.15</td>\n",
       "      <td>5.42</td>\n",
       "      <td>5.21</td>\n",
       "      <td>78252817</td>\n",
       "      <td>5.21</td>\n",
       "    </tr>\n",
       "  </tbody>\n",
       "</table>\n",
       "<p>152 rows × 7 columns</p>\n",
       "</div>"
      ],
      "text/plain": [
       "           Date  High   Low  Open  Close     Volume  Adj Close\n",
       "0    2021-01-04  5.15  5.05  5.11   5.08   34690661       5.08\n",
       "1    2021-01-05  5.12  4.98  5.08   5.02   36005214       5.02\n",
       "2    2021-01-06  5.08  4.89  5.06   4.93   30251660       4.93\n",
       "3    2021-01-07  4.94  4.55  4.93   4.73   52366823       4.73\n",
       "4    2021-01-08  5.03  4.61  4.70   4.81   49958645       4.81\n",
       "..          ...   ...   ...   ...    ...        ...        ...\n",
       "147  2021-08-11  5.66  5.51  5.55   5.52   75053194       5.52\n",
       "148  2021-08-12  6.15  5.53  5.55   5.81  190118060       5.81\n",
       "149  2021-08-13  5.83  5.56  5.79   5.58  101540589       5.58\n",
       "150  2021-08-16  5.54  5.33  5.51   5.36   86862209       5.36\n",
       "151  2021-08-17  5.46  5.15  5.42   5.21   78252817       5.21\n",
       "\n",
       "[152 rows x 7 columns]"
      ]
     },
     "execution_count": 30,
     "metadata": {},
     "output_type": "execute_result"
    }
   ],
   "source": [
    "dataset_test"
   ]
  },
  {
   "cell_type": "code",
   "execution_count": 31,
   "metadata": {
    "ExecuteTime": {
     "end_time": "2022-01-06T13:03:11.128577Z",
     "start_time": "2022-01-06T13:03:11.125692Z"
    }
   },
   "outputs": [],
   "source": [
    "real_stock_price = dataset_test.iloc[:, 1:2].values"
   ]
  },
  {
   "cell_type": "code",
   "execution_count": 32,
   "metadata": {
    "ExecuteTime": {
     "end_time": "2022-01-06T13:03:11.842839Z",
     "start_time": "2022-01-06T13:03:11.835566Z"
    }
   },
   "outputs": [
    {
     "data": {
      "text/plain": [
       "array([[5.1500001 ],\n",
       "       [5.11999989],\n",
       "       [5.07999992],\n",
       "       [4.94000006],\n",
       "       [5.03000021],\n",
       "       [4.92999983],\n",
       "       [4.84000015],\n",
       "       [4.65999985],\n",
       "       [4.51000023],\n",
       "       [4.6500001 ],\n",
       "       [4.65999985],\n",
       "       [4.80000019],\n",
       "       [4.71999979],\n",
       "       [4.78000021],\n",
       "       [4.63000011],\n",
       "       [4.5       ],\n",
       "       [4.44000006],\n",
       "       [4.6500001 ],\n",
       "       [4.71000004],\n",
       "       [4.69999981],\n",
       "       [4.48000002],\n",
       "       [4.67999983],\n",
       "       [4.61999989],\n",
       "       [4.4000001 ],\n",
       "       [4.3499999 ],\n",
       "       [4.17999983],\n",
       "       [4.1500001 ],\n",
       "       [4.19000006],\n",
       "       [4.44000006],\n",
       "       [4.5999999 ],\n",
       "       [4.84000015],\n",
       "       [4.75      ],\n",
       "       [4.67000008],\n",
       "       [4.63000011],\n",
       "       [4.61000013],\n",
       "       [4.63999987],\n",
       "       [4.67999983],\n",
       "       [4.5999999 ],\n",
       "       [4.6500001 ],\n",
       "       [4.73999977],\n",
       "       [4.92999983],\n",
       "       [5.03999996],\n",
       "       [4.82000017],\n",
       "       [4.67999983],\n",
       "       [4.65999985],\n",
       "       [4.53000021],\n",
       "       [5.05999994],\n",
       "       [4.96000004],\n",
       "       [4.80000019],\n",
       "       [4.8499999 ],\n",
       "       [4.73999977],\n",
       "       [4.71000004],\n",
       "       [4.80000019],\n",
       "       [4.90999985],\n",
       "       [4.86000013],\n",
       "       [4.88000011],\n",
       "       [4.82999992],\n",
       "       [4.71999979],\n",
       "       [4.69000006],\n",
       "       [4.61999989],\n",
       "       [4.76999998],\n",
       "       [4.71000004],\n",
       "       [4.61999989],\n",
       "       [4.57000017],\n",
       "       [4.51999998],\n",
       "       [4.46000004],\n",
       "       [4.44999981],\n",
       "       [4.42000008],\n",
       "       [4.53999996],\n",
       "       [4.57999992],\n",
       "       [4.90999985],\n",
       "       [4.80000019],\n",
       "       [4.80999994],\n",
       "       [4.76999998],\n",
       "       [4.71000004],\n",
       "       [4.65999985],\n",
       "       [4.5999999 ],\n",
       "       [4.57999992],\n",
       "       [4.53000021],\n",
       "       [4.53999996],\n",
       "       [4.48999977],\n",
       "       [4.51000023],\n",
       "       [4.53000021],\n",
       "       [4.57000017],\n",
       "       [4.63999987],\n",
       "       [4.67999983],\n",
       "       [4.67999983],\n",
       "       [4.59000015],\n",
       "       [4.57000017],\n",
       "       [4.48000002],\n",
       "       [4.42999983],\n",
       "       [4.46000004],\n",
       "       [4.51999998],\n",
       "       [4.57000017],\n",
       "       [4.5999999 ],\n",
       "       [4.67000008],\n",
       "       [4.63000011],\n",
       "       [4.61999989],\n",
       "       [4.61000013],\n",
       "       [4.63999987],\n",
       "       [5.03999996],\n",
       "       [4.75      ],\n",
       "       [4.92000008],\n",
       "       [4.9000001 ],\n",
       "       [5.01000023],\n",
       "       [5.34000015],\n",
       "       [5.3499999 ],\n",
       "       [5.34000015],\n",
       "       [5.19000006],\n",
       "       [5.0999999 ],\n",
       "       [5.23000002],\n",
       "       [5.17000008],\n",
       "       [5.07000017],\n",
       "       [5.        ],\n",
       "       [4.88000011],\n",
       "       [4.86000013],\n",
       "       [4.98000002],\n",
       "       [4.92000008],\n",
       "       [4.86999989],\n",
       "       [4.69999981],\n",
       "       [4.84000015],\n",
       "       [4.8499999 ],\n",
       "       [4.96000004],\n",
       "       [4.82999992],\n",
       "       [4.88999987],\n",
       "       [5.05999994],\n",
       "       [5.07999992],\n",
       "       [5.03000021],\n",
       "       [4.96000004],\n",
       "       [4.90999985],\n",
       "       [4.98000002],\n",
       "       [5.03999996],\n",
       "       [5.05999994],\n",
       "       [5.13999987],\n",
       "       [5.07999992],\n",
       "       [4.92999983],\n",
       "       [4.84000015],\n",
       "       [4.76999998],\n",
       "       [4.53999996],\n",
       "       [4.61000013],\n",
       "       [4.65999985],\n",
       "       [5.57999992],\n",
       "       [5.84000015],\n",
       "       [6.05000019],\n",
       "       [5.94999981],\n",
       "       [5.82999992],\n",
       "       [5.65999985],\n",
       "       [5.65999985],\n",
       "       [6.1500001 ],\n",
       "       [5.82999992],\n",
       "       [5.53999996],\n",
       "       [5.46000004]])"
      ]
     },
     "execution_count": 32,
     "metadata": {},
     "output_type": "execute_result"
    }
   ],
   "source": [
    "real_stock_price"
   ]
  },
  {
   "cell_type": "code",
   "execution_count": 33,
   "metadata": {
    "ExecuteTime": {
     "end_time": "2022-01-06T13:03:12.449450Z",
     "start_time": "2022-01-06T13:03:12.445852Z"
    }
   },
   "outputs": [
    {
     "data": {
      "text/plain": [
       "(152,)"
      ]
     },
     "execution_count": 33,
     "metadata": {},
     "output_type": "execute_result"
    }
   ],
   "source": [
    "dataset_train['Open'].shape"
   ]
  },
  {
   "cell_type": "code",
   "execution_count": 34,
   "metadata": {
    "ExecuteTime": {
     "end_time": "2022-01-06T13:03:13.131414Z",
     "start_time": "2022-01-06T13:03:13.125923Z"
    }
   },
   "outputs": [
    {
     "data": {
      "text/plain": [
       "0      5.11\n",
       "1      5.08\n",
       "2      5.06\n",
       "3      4.93\n",
       "4      4.70\n",
       "       ... \n",
       "147    5.55\n",
       "148    5.55\n",
       "149    5.79\n",
       "150    5.51\n",
       "151    5.42\n",
       "Name: Open, Length: 152, dtype: float64"
      ]
     },
     "execution_count": 34,
     "metadata": {},
     "output_type": "execute_result"
    }
   ],
   "source": [
    "dataset_test['Open']"
   ]
  },
  {
   "cell_type": "code",
   "execution_count": 35,
   "metadata": {
    "ExecuteTime": {
     "end_time": "2022-01-06T13:03:13.519465Z",
     "start_time": "2022-01-06T13:03:13.516347Z"
    }
   },
   "outputs": [],
   "source": [
    "dataset_total = pd.concat((dataset_train['Open'], dataset_test['Open']), axis = 0)"
   ]
  },
  {
   "cell_type": "code",
   "execution_count": 36,
   "metadata": {
    "ExecuteTime": {
     "end_time": "2022-01-06T13:03:13.934607Z",
     "start_time": "2022-01-06T13:03:13.931188Z"
    }
   },
   "outputs": [
    {
     "data": {
      "text/plain": [
       "304"
      ]
     },
     "execution_count": 36,
     "metadata": {},
     "output_type": "execute_result"
    }
   ],
   "source": [
    "len(dataset_total)"
   ]
  },
  {
   "cell_type": "code",
   "execution_count": 37,
   "metadata": {
    "ExecuteTime": {
     "end_time": "2022-01-06T13:03:14.318058Z",
     "start_time": "2022-01-06T13:03:14.315480Z"
    }
   },
   "outputs": [],
   "source": [
    "inputs = dataset_total[len(dataset_total) - len(dataset_test) - 60:].values"
   ]
  },
  {
   "cell_type": "code",
   "execution_count": 38,
   "metadata": {
    "ExecuteTime": {
     "end_time": "2022-01-06T13:03:14.932379Z",
     "start_time": "2022-01-06T13:03:14.926029Z"
    }
   },
   "outputs": [
    {
     "data": {
      "text/plain": [
       "array([4.46999979, 4.48999977, 4.48999977, 4.57999992, 4.53999996,\n",
       "       4.55999994, 4.59000015, 4.53999996, 4.73999977, 4.61000013,\n",
       "       4.71999979, 4.88000011, 4.82000017, 4.90999985, 5.07999992,\n",
       "       5.09000015, 5.0999999 , 5.05999994, 4.98999977, 5.15999985,\n",
       "       4.94999981, 4.98000002, 4.82999992, 4.78999996, 4.80999994,\n",
       "       4.86999989, 4.82999992, 4.61999989, 4.63999987, 4.75      ,\n",
       "       4.76000023, 4.82999992, 4.67999983, 4.78999996, 5.01000023,\n",
       "       5.01000023, 4.94999981, 4.80000019, 4.82000017, 4.92999983,\n",
       "       4.92999983, 4.98000002, 5.05000019, 4.9000001 , 4.78000021,\n",
       "       4.71000004, 4.5       , 4.48000002, 4.53000021, 4.6500001 ,\n",
       "       5.53000021, 5.61000013, 5.76999998, 5.67999983, 5.61999989,\n",
       "       5.55000019, 5.55000019, 5.78999996, 5.51000023, 5.42000008,\n",
       "       5.11000013, 5.07999992, 5.05999994, 4.92999983, 4.69999981,\n",
       "       4.86000013, 4.63000011, 4.61999989, 4.38999987, 4.40999985,\n",
       "       4.55000019, 4.53000021, 4.69000006, 4.63000011, 4.61999989,\n",
       "       4.46000004, 4.36000013, 4.28000021, 4.46000004, 4.6500001 ,\n",
       "       4.36999989, 4.34000015, 4.55999994, 4.34000015, 4.19000006,\n",
       "       4.13000011, 4.07999992, 4.0999999 , 4.21000004, 4.3499999 ,\n",
       "       4.67999983, 4.67999983, 4.51000023, 4.59000015, 4.42999983,\n",
       "       4.55999994, 4.67000008, 4.59000015, 4.55999994, 4.55999994,\n",
       "       4.76000023, 4.80000019, 4.76000023, 4.53999996, 4.6500001 ,\n",
       "       4.51000023, 4.57000017, 4.78999996, 4.73000002, 4.69999981,\n",
       "       4.69999981, 4.71000004, 4.59000015, 4.65999985, 4.82000017,\n",
       "       4.80999994, 4.82999992, 4.6500001 , 4.67999983, 4.5999999 ,\n",
       "       4.6500001 , 4.69000006, 4.61999989, 4.55999994, 4.51000023,\n",
       "       4.42000008, 4.42000008, 4.42000008, 4.3499999 , 4.5       ,\n",
       "       4.75      , 4.73000002, 4.73999977, 4.76000023, 4.69000006,\n",
       "       4.5999999 , 4.55999994, 4.51000023, 4.5       , 4.44000006,\n",
       "       4.42999983, 4.42999983, 4.46000004, 4.51999998, 4.53000021,\n",
       "       4.63000011, 4.6500001 , 4.53000021, 4.57000017, 4.44999981,\n",
       "       4.38999987, 4.4000001 , 4.46999979, 4.48999977, 4.48999977,\n",
       "       4.57999992, 4.53999996, 4.55999994, 4.59000015, 4.53999996,\n",
       "       4.73999977, 4.61000013, 4.71999979, 4.88000011, 4.82000017,\n",
       "       4.90999985, 5.07999992, 5.09000015, 5.0999999 , 5.05999994,\n",
       "       4.98999977, 5.15999985, 4.94999981, 4.98000002, 4.82999992,\n",
       "       4.78999996, 4.80999994, 4.86999989, 4.82999992, 4.61999989,\n",
       "       4.63999987, 4.75      , 4.76000023, 4.82999992, 4.67999983,\n",
       "       4.78999996, 5.01000023, 5.01000023, 4.94999981, 4.80000019,\n",
       "       4.82000017, 4.92999983, 4.92999983, 4.98000002, 5.05000019,\n",
       "       4.9000001 , 4.78000021, 4.71000004, 4.5       , 4.48000002,\n",
       "       4.53000021, 4.6500001 , 5.53000021, 5.61000013, 5.76999998,\n",
       "       5.67999983, 5.61999989, 5.55000019, 5.55000019, 5.78999996,\n",
       "       5.51000023, 5.42000008])"
      ]
     },
     "execution_count": 38,
     "metadata": {},
     "output_type": "execute_result"
    }
   ],
   "source": [
    "inputs"
   ]
  },
  {
   "cell_type": "code",
   "execution_count": 39,
   "metadata": {
    "ExecuteTime": {
     "end_time": "2022-01-06T13:03:15.535635Z",
     "start_time": "2022-01-06T13:03:15.533000Z"
    }
   },
   "outputs": [],
   "source": [
    "inputs = inputs.reshape(-1,1)\n",
    "inputs = sc.transform(inputs)"
   ]
  },
  {
   "cell_type": "code",
   "execution_count": 40,
   "metadata": {
    "ExecuteTime": {
     "end_time": "2022-01-06T13:03:16.098146Z",
     "start_time": "2022-01-06T13:03:16.094798Z"
    }
   },
   "outputs": [],
   "source": [
    "# 提取测试集\n",
    "X_test = []\n",
    "for i in range(60, 76):\n",
    "    X_test.append(inputs[i-60:i, 0])\n",
    "X_test = np.array(X_test)\n",
    "X_test = np.reshape(X_test, (X_test.shape[0], X_test.shape[1], 1))"
   ]
  },
  {
   "cell_type": "code",
   "execution_count": 44,
   "metadata": {
    "ExecuteTime": {
     "end_time": "2022-01-06T13:09:56.737523Z",
     "start_time": "2022-01-06T13:09:56.733379Z"
    }
   },
   "outputs": [
    {
     "data": {
      "text/plain": [
       "(16, 1)"
      ]
     },
     "execution_count": 44,
     "metadata": {},
     "output_type": "execute_result"
    }
   ],
   "source": [
    "predicted_stock_price.shape"
   ]
  },
  {
   "cell_type": "code",
   "execution_count": 45,
   "metadata": {
    "ExecuteTime": {
     "end_time": "2022-01-06T13:10:36.551631Z",
     "start_time": "2022-01-06T13:10:36.547919Z"
    }
   },
   "outputs": [
    {
     "data": {
      "text/plain": [
       "(152, 1)"
      ]
     },
     "execution_count": 45,
     "metadata": {},
     "output_type": "execute_result"
    }
   ],
   "source": [
    "real_stock_price.shape"
   ]
  },
  {
   "cell_type": "code",
   "execution_count": 41,
   "metadata": {
    "ExecuteTime": {
     "end_time": "2022-01-06T13:03:16.861388Z",
     "start_time": "2022-01-06T13:03:16.430426Z"
    }
   },
   "outputs": [
    {
     "ename": "ValueError",
     "evalue": "operands could not be broadcast together with shapes (16,1) (152,1) ",
     "output_type": "error",
     "traceback": [
      "\u001b[0;31m---------------------------------------------------------------------------\u001b[0m",
      "\u001b[0;31mValueError\u001b[0m                                Traceback (most recent call last)",
      "\u001b[0;32m<ipython-input-41-0dd17ac7cef8>\u001b[0m in \u001b[0;36m<module>\u001b[0;34m\u001b[0m\n\u001b[1;32m      4\u001b[0m \u001b[0mpredicted_stock_price\u001b[0m \u001b[0;34m=\u001b[0m \u001b[0msc\u001b[0m\u001b[0;34m.\u001b[0m\u001b[0minverse_transform\u001b[0m\u001b[0;34m(\u001b[0m\u001b[0mpredicted_stock_price\u001b[0m\u001b[0;34m)\u001b[0m\u001b[0;34m\u001b[0m\u001b[0;34m\u001b[0m\u001b[0m\n\u001b[1;32m      5\u001b[0m \u001b[0;31m# 模型评估\u001b[0m\u001b[0;34m\u001b[0m\u001b[0;34m\u001b[0m\u001b[0;34m\u001b[0m\u001b[0m\n\u001b[0;32m----> 6\u001b[0;31m \u001b[0mprint\u001b[0m\u001b[0;34m(\u001b[0m\u001b[0;34m'预测与实际差异MSE'\u001b[0m\u001b[0;34m,\u001b[0m\u001b[0msum\u001b[0m\u001b[0;34m(\u001b[0m\u001b[0mpow\u001b[0m\u001b[0;34m(\u001b[0m\u001b[0;34m(\u001b[0m\u001b[0mpredicted_stock_price\u001b[0m \u001b[0;34m-\u001b[0m \u001b[0mreal_stock_price\u001b[0m\u001b[0;34m)\u001b[0m\u001b[0;34m,\u001b[0m\u001b[0;36m2\u001b[0m\u001b[0;34m)\u001b[0m\u001b[0;34m)\u001b[0m\u001b[0;34m/\u001b[0m\u001b[0mpredicted_stock_price\u001b[0m\u001b[0;34m.\u001b[0m\u001b[0mshape\u001b[0m\u001b[0;34m[\u001b[0m\u001b[0;36m0\u001b[0m\u001b[0;34m]\u001b[0m\u001b[0;34m)\u001b[0m\u001b[0;34m\u001b[0m\u001b[0;34m\u001b[0m\u001b[0m\n\u001b[0m\u001b[1;32m      7\u001b[0m \u001b[0mprint\u001b[0m\u001b[0;34m(\u001b[0m\u001b[0;34m'预测与实际差异MAE'\u001b[0m\u001b[0;34m,\u001b[0m\u001b[0msum\u001b[0m\u001b[0;34m(\u001b[0m\u001b[0mabs\u001b[0m\u001b[0;34m(\u001b[0m\u001b[0mpredicted_stock_price\u001b[0m \u001b[0;34m-\u001b[0m \u001b[0mreal_stock_price\u001b[0m\u001b[0;34m)\u001b[0m\u001b[0;34m)\u001b[0m\u001b[0;34m/\u001b[0m\u001b[0mpredicted_stock_price\u001b[0m\u001b[0;34m.\u001b[0m\u001b[0mshape\u001b[0m\u001b[0;34m[\u001b[0m\u001b[0;36m0\u001b[0m\u001b[0;34m]\u001b[0m\u001b[0;34m)\u001b[0m\u001b[0;34m\u001b[0m\u001b[0;34m\u001b[0m\u001b[0m\n",
      "\u001b[0;31mValueError\u001b[0m: operands could not be broadcast together with shapes (16,1) (152,1) "
     ]
    }
   ],
   "source": [
    "# 模型预测\n",
    "predicted_stock_price = regressor.predict(X_test)\n",
    "# 逆归一化\n",
    "predicted_stock_price = sc.inverse_transform(predicted_stock_price)\n",
    "# 模型评估\n",
    "print('预测与实际差异MSE',sum(pow((predicted_stock_price - real_stock_price),2))/predicted_stock_price.shape[0])\n",
    "print('预测与实际差异MAE',sum(abs(predicted_stock_price - real_stock_price))/predicted_stock_price.shape[0])"
   ]
  },
  {
   "cell_type": "code",
   "execution_count": 42,
   "metadata": {
    "ExecuteTime": {
     "end_time": "2022-01-06T13:03:16.974947Z",
     "start_time": "2022-01-06T13:03:16.963647Z"
    }
   },
   "outputs": [
    {
     "data": {
      "text/html": [
       "<div>\n",
       "<style scoped>\n",
       "    .dataframe tbody tr th:only-of-type {\n",
       "        vertical-align: middle;\n",
       "    }\n",
       "\n",
       "    .dataframe tbody tr th {\n",
       "        vertical-align: top;\n",
       "    }\n",
       "\n",
       "    .dataframe thead th {\n",
       "        text-align: right;\n",
       "    }\n",
       "</style>\n",
       "<table border=\"1\" class=\"dataframe\">\n",
       "  <thead>\n",
       "    <tr style=\"text-align: right;\">\n",
       "      <th></th>\n",
       "      <th>Date</th>\n",
       "      <th>High</th>\n",
       "      <th>Low</th>\n",
       "      <th>Open</th>\n",
       "      <th>Close</th>\n",
       "      <th>Volume</th>\n",
       "      <th>Adj Close</th>\n",
       "    </tr>\n",
       "  </thead>\n",
       "  <tbody>\n",
       "    <tr>\n",
       "      <th>0</th>\n",
       "      <td>2021-01-04</td>\n",
       "      <td>5.15</td>\n",
       "      <td>5.05</td>\n",
       "      <td>5.11</td>\n",
       "      <td>5.08</td>\n",
       "      <td>34690661</td>\n",
       "      <td>5.08</td>\n",
       "    </tr>\n",
       "    <tr>\n",
       "      <th>1</th>\n",
       "      <td>2021-01-05</td>\n",
       "      <td>5.12</td>\n",
       "      <td>4.98</td>\n",
       "      <td>5.08</td>\n",
       "      <td>5.02</td>\n",
       "      <td>36005214</td>\n",
       "      <td>5.02</td>\n",
       "    </tr>\n",
       "    <tr>\n",
       "      <th>2</th>\n",
       "      <td>2021-01-06</td>\n",
       "      <td>5.08</td>\n",
       "      <td>4.89</td>\n",
       "      <td>5.06</td>\n",
       "      <td>4.93</td>\n",
       "      <td>30251660</td>\n",
       "      <td>4.93</td>\n",
       "    </tr>\n",
       "    <tr>\n",
       "      <th>3</th>\n",
       "      <td>2021-01-07</td>\n",
       "      <td>4.94</td>\n",
       "      <td>4.55</td>\n",
       "      <td>4.93</td>\n",
       "      <td>4.73</td>\n",
       "      <td>52366823</td>\n",
       "      <td>4.73</td>\n",
       "    </tr>\n",
       "    <tr>\n",
       "      <th>4</th>\n",
       "      <td>2021-01-08</td>\n",
       "      <td>5.03</td>\n",
       "      <td>4.61</td>\n",
       "      <td>4.70</td>\n",
       "      <td>4.81</td>\n",
       "      <td>49958645</td>\n",
       "      <td>4.81</td>\n",
       "    </tr>\n",
       "  </tbody>\n",
       "</table>\n",
       "</div>"
      ],
      "text/plain": [
       "         Date  High   Low  Open  Close    Volume  Adj Close\n",
       "0  2021-01-04  5.15  5.05  5.11   5.08  34690661       5.08\n",
       "1  2021-01-05  5.12  4.98  5.08   5.02  36005214       5.02\n",
       "2  2021-01-06  5.08  4.89  5.06   4.93  30251660       4.93\n",
       "3  2021-01-07  4.94  4.55  4.93   4.73  52366823       4.73\n",
       "4  2021-01-08  5.03  4.61  4.70   4.81  49958645       4.81"
      ]
     },
     "execution_count": 42,
     "metadata": {},
     "output_type": "execute_result"
    }
   ],
   "source": [
    "dataset_test.head()"
   ]
  },
  {
   "cell_type": "code",
   "execution_count": 28,
   "metadata": {
    "ExecuteTime": {
     "end_time": "2022-01-06T13:02:31.641286Z",
     "start_time": "2022-01-06T13:02:31.458107Z"
    }
   },
   "outputs": [
    {
     "data": {
      "image/png": "[encoded data removed]",
      "text/plain": [
       "<Figure size 432x288 with 1 Axes>"
      ]
     },
     "metadata": {
      "needs_background": "light"
     },
     "output_type": "display_data"
    }
   ],
   "source": [
    "# 预测与实际差异的可视化\n",
    "plt.plot(real_stock_price, color = 'red', label = 'Real TATA Stock Price')\n",
    "plt.plot(predicted_stock_price, color = 'blue', label = 'Predicted TAT Stock Price')\n",
    "plt.title('TATA Stock Price Prediction')\n",
    "plt.xlabel('samples')\n",
    "plt.ylabel('TATA Stock Price')\n",
    "plt.legend()\n",
    "plt.show()"
   ]
  },
  {
   "cell_type": "code",
   "execution_count": null,
   "metadata": {},
   "outputs": [],
   "source": []
  }
 ],
 "metadata": {
  "kernelspec": {
   "display_name": "Python 3",
   "language": "python",
   "name": "python3"
  },
  "language_info": {
   "codemirror_mode": {
    "name": "ipython",
    "version": 3
   },
   "file_extension": ".py",
   "mimetype": "text/x-python",
   "name": "python",
   "nbconvert_exporter": "python",
   "pygments_lexer": "ipython3",
   "version": "3.8.8"
  },
  "toc": {
   "base_numbering": 1,
   "nav_menu": {},
   "number_sections": true,
   "sideBar": true,
   "skip_h1_title": false,
   "title_cell": "Table of Contents",
   "title_sidebar": "Contents",
   "toc_cell": false,
   "toc_position": {},
   "toc_section_display": true,
   "toc_window_display": false
  }
 },
 "nbformat": 4,
 "nbformat_minor": 2
}
