{
 "cells": [
  {
   "cell_type": "code",
   "execution_count": null,
   "metadata": {},
   "outputs": [],
   "source": [
    "import pandas as pd\n",
    "import numpy as np\n",
    "import matplotlib.pyplot as plt\n",
    "import os\n",
    "import warnings\n",
    "warnings.filterwarnings('ignore')"
   ]
  },
  {
   "cell_type": "code",
   "execution_count": null,
   "metadata": {
    "scrolled": false
   },
   "outputs": [],
   "source": [
    "df = pd.read_csv('tmall_order_report.csv')\n",
    "df.head()"
   ]
  },
  {
   "cell_type": "code",
   "execution_count": null,
   "metadata": {
    "scrolled": false
   },
   "outputs": [],
   "source": [
    "df.columns"
   ]
  },
  {
   "cell_type": "code",
   "execution_count": null,
   "metadata": {},
   "outputs": [],
   "source": [
    "df=df.rename(columns={'收货地址 ':'收货地址','订单付款时间 ':'订单付款时间'})\n",
    "df.columns"
   ]
  },
  {
   "cell_type": "code",
   "execution_count": null,
   "metadata": {},
   "outputs": [],
   "source": [
    "df.info()"
   ]
  },
  {
   "cell_type": "code",
   "execution_count": null,
   "metadata": {},
   "outputs": [],
   "source": [
    "df['订单创建时间']=pd.to_datetime(df.订单创建时间)\n",
    "df['订单付款时间']=pd.to_datetime(df.订单付款时间)\n",
    "df.info()"
   ]
  },
  {
   "cell_type": "code",
   "execution_count": null,
   "metadata": {},
   "outputs": [],
   "source": [
    "df.duplicated().sum()\n"
   ]
  },
  {
   "cell_type": "code",
   "execution_count": null,
   "metadata": {},
   "outputs": [],
   "source": [
    "df.isnull().sum()"
   ]
  },
  {
   "cell_type": "code",
   "execution_count": null,
   "metadata": {},
   "outputs": [],
   "source": [
    "df.describe()"
   ]
  },
  {
   "cell_type": "code",
   "execution_count": null,
   "metadata": {},
   "outputs": [],
   "source": [
    "import pandas_profiling as pp\n",
    "report = pp.ProfileReport(df)\n",
    "report"
   ]
  },
  {
   "cell_type": "code",
   "execution_count": null,
   "metadata": {},
   "outputs": [],
   "source": [
    "df_payed=df[df['订单付款时间'].notnull()]#支付订单数据集\n",
    "df_trans=df_payed[df_payed['买家实际支付金额']!=0]#到款订单数据集\n",
    "df_trans_full=df_payed[df_payed['退款金额']==0]#全额到款订单数据集"
   ]
  },
  {
   "cell_type": "code",
   "execution_count": null,
   "metadata": {},
   "outputs": [],
   "source": [
    "import pyecharts.options as opts\n",
    "#将订单创建时间设为index\n",
    "df_trans=df_trans.set_index('订单创建时间')\n",
    "#按天重新采样\n",
    "se_trans_month = df_trans.resample('D')['订单编号'].count()\n",
    "from pyecharts.charts import Line\n",
    "#做出标有具体数值的变化图\n",
    "name = '成交订单数'\n",
    "\n",
    "(\n",
    "    Line()\n",
    "    .add_xaxis(xaxis_data = list(se_trans_month.index.day.map(str)))\n",
    "    .add_yaxis(\n",
    "        series_name= name,\n",
    "        y_axis= se_trans_month,\n",
    "\n",
    "    )\n",
    "    .set_global_opts(\n",
    "        yaxis_opts = opts.AxisOpts(\n",
    "            splitline_opts = opts.SplitLineOpts(is_show = True)\n",
    "        )\n",
    "    )\n",
    "    .render_notebook()\n",
    ")"
   ]
  },
  {
   "cell_type": "code",
   "execution_count": null,
   "metadata": {
    "scrolled": true
   },
   "outputs": [],
   "source": [
    "se_trans_map=df_trans.groupby('收货地址')['收货地址'].count().sort_values(ascending=False)\n",
    "# 为了保持由于下面的地理分布图使用的省份名称一致，定义一个处理自治区的函数\n",
    "def strip_region(iterable):\n",
    "    result = []\n",
    "    for i in iterable:\n",
    "        if i.endswith('自治区'):\n",
    "            if i == '内蒙古自治区':\n",
    "                i = i[:3]\n",
    "                result.append(i)\n",
    "            else:\n",
    "                result.append(i[:2])\n",
    "        else:\n",
    "            result.append(i)\n",
    "    return result\n",
    "# 处理自治区\n",
    "se_trans_map.index = strip_region(se_trans_map.index)\n",
    "# 去掉末位‘省’字\n",
    "se_trans_map.index = se_trans_map.index.str.strip('省')\n",
    "\n",
    "import pyecharts.options as opts\n",
    "from pyecharts.charts import Map\n",
    "# 展示地理分布图\n",
    "name = '订单数'\n",
    "\n",
    "(\n",
    "    Map()\n",
    "    .add(\n",
    "        series_name = name,\n",
    "        data_pair= [list(i) for i in se_trans_map.items()])\n",
    "    .set_global_opts(visualmap_opts=opts.VisualMapOpts(\n",
    "        max_=max(se_trans_map)*0.6\n",
    "    )\n",
    "                    )\n",
    "    .render_notebook()\n",
    ")"
   ]
  },
  {
   "cell_type": "code",
   "execution_count": null,
   "metadata": {},
   "outputs": [],
   "source": [
    "dict_convs=dict() #字典\n",
    "dict_convs['总订单数']=len(df)\n",
    "df_payed\n",
    "dict_convs['订单付款数']=len(df_payed.notnull())\n",
    "df_trans=df[df['买家实际支付金额']!=0]\n",
    "dict_convs['到款订单数']=len(df_trans)\n",
    "dict_convs['全额到款订单数']=len(df_trans_full)"
   ]
  },
  {
   "cell_type": "code",
   "execution_count": null,
   "metadata": {},
   "outputs": [],
   "source": [
    "#字典转为dataframe\n",
    "df_convs = pd.Series(dict_convs,name = '订单数').to_frame()\n",
    "df_convs\n",
    "#求总体转换率，依次比上总订单数\n",
    "total_convs=df_convs['订单数']/df_convs.loc['总订单数','订单数']*100\n",
    "df_convs['总体转化率']=total_convs.apply(lambda x:round(x,0))\n",
    "df_convs\n",
    "#求单一转换率\n",
    "single_convs=df_convs.订单数/(df_convs.订单数.shift())*100\n",
    "single_convs=single_convs.fillna(100)\n",
    "df_convs['单一转化率']=single_convs.apply(lambda x:round(x,0))\n",
    "df_convs"
   ]
  },
  {
   "cell_type": "code",
   "execution_count": null,
   "metadata": {},
   "outputs": [],
   "source": [
    "from pyecharts.charts import Funnel\n",
    "from pyecharts import options as opts\n",
    "name = '总体转化率'\n",
    "funnel = Funnel().add(\n",
    "                    series_name = name,\n",
    "                    data_pair = [ list(z) for z in zip(df_convs.index,df_convs[name]) ],\n",
    "                    is_selected = True,\n",
    "                    label_opts = opts.LabelOpts(position = 'inside')\n",
    "                    )\n",
    "funnel.set_series_opts(tooltip_opts = opts.TooltipOpts(formatter = '{a}<br/>{b}:{c}%'))\n",
    "\n",
    "funnel.set_global_opts( title_opts = opts.TitleOpts(title = name),\n",
    "#                         tooltip_opts = opts.TooltipOpts(formatter = '{a}<br\\>{b}:{c}%'),\n",
    "                      )\n",
    "                        \n",
    "funnel.render_notebook()"
   ]
  },
  {
   "cell_type": "code",
   "execution_count": null,
   "metadata": {},
   "outputs": [],
   "source": [
    "name = '单一转化率'\n",
    "funnel = Funnel().add(\n",
    "                    series_name = name,\n",
    "                    data_pair = [ list(z) for z in zip(df_convs.index,df_convs[name]) ],\n",
    "                    is_selected = True,\n",
    "                    label_opts = opts.LabelOpts(position = 'inside')\n",
    "                    )\n",
    "funnel.set_series_opts(tooltip_opts = opts.TooltipOpts(formatter = '{a}<br/>{b}:{c}%'))\n",
    "\n",
    "funnel.set_global_opts( title_opts = opts.TitleOpts(title = name),\n",
    "#                         tooltip_opts = opts.TooltipOpts(formatter = '{a}<br\\>{b}:{c}%'),\n",
    "                      )\n",
    "                        \n",
    "funnel.render_notebook()"
   ]
  }
 ],
 "metadata": {
  "kernelspec": {
   "display_name": "Python 3",
   "language": "python",
   "name": "python3"
  },
  "language_info": {
   "codemirror_mode": {
    "name": "ipython",
    "version": 3
   },
   "file_extension": ".py",
   "mimetype": "text/x-python",
   "name": "python",
   "nbconvert_exporter": "python",
   "pygments_lexer": "ipython3",
   "version": "3.8.8"
  },
  "toc": {
   "base_numbering": 1,
   "nav_menu": {},
   "number_sections": true,
   "sideBar": true,
   "skip_h1_title": false,
   "title_cell": "Table of Contents",
   "title_sidebar": "Contents",
   "toc_cell": false,
   "toc_position": {},
   "toc_section_display": true,
   "toc_window_display": false
  }
 },
 "nbformat": 4,
 "nbformat_minor": 4
}
